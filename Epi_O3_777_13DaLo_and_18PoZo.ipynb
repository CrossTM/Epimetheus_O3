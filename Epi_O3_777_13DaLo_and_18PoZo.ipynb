{
 "cells": [
  {
   "cell_type": "code",
   "execution_count": 1,
   "metadata": {
    "button": false,
    "new_sheet": false,
    "run_control": {
     "read_only": false
    }
   },
   "outputs": [
    {
     "name": "stderr",
     "output_type": "stream",
     "text": [
      "/Users/thomascross/opt/anaconda3/lib/python3.8/site-packages/pyscf/dft/libxc.py:771: UserWarning: Since PySCF-2.3, B3LYP (and B3P86) are changed to the VWN-RPA variant, corresponding to the original definition by Stephens et al. (issue 1480) and the same as the B3LYP functional in Gaussian. To restore the VWN5 definition, you can put the setting \"B3LYP_WITH_VWN5 = True\" in pyscf_conf.py\n",
      "  warnings.warn('Since PySCF-2.3, B3LYP (and B3P86) are changed to the VWN-RPA variant, '\n"
     ]
    }
   ],
   "source": [
    "#Essential Constants\n",
    "from scipy.constants import h, c, hbar, u, k\n",
    "\n",
    "#Imports from other script/s\n",
    "from ipynb.fs.full.Conversions_Epimetheus import * #Conversion Doc\n",
    "from ipynb.fs.full.Atomic_Mass_Key import element #Mass Key File\n",
    "from ipynb.fs.full.EpiPan_Functions import * #All Functions\n",
    "\n",
    "#General Imports\n",
    "import numpy as np\n",
    "import matplotlib.pyplot as plt\n",
    "import scipy.linalg as la\n",
    "import itertools\n",
    "import pandas as pd"
   ]
  },
  {
   "cell_type": "code",
   "execution_count": 2,
   "metadata": {
    "button": false,
    "new_sheet": false,
    "run_control": {
     "read_only": false
    }
   },
   "outputs": [],
   "source": [
    "#Import Desired PES\n",
    "from ipynb.fs.full.O3_PES_fortran_DAWES import PES"
   ]
  },
  {
   "cell_type": "code",
   "execution_count": null,
   "metadata": {},
   "outputs": [],
   "source": []
  },
  {
   "cell_type": "markdown",
   "metadata": {
    "button": false,
    "new_sheet": false,
    "run_control": {
     "read_only": false
    }
   },
   "source": [
    "### Manual Inputs"
   ]
  },
  {
   "cell_type": "code",
   "execution_count": 3,
   "metadata": {},
   "outputs": [],
   "source": [
    "molecule = [\"O-17\", \"O-17\", \"O-17\"]"
   ]
  },
  {
   "cell_type": "code",
   "execution_count": 4,
   "metadata": {
    "button": false,
    "new_sheet": false,
    "run_control": {
     "read_only": false
    }
   },
   "outputs": [],
   "source": [
    "#Temperature\n",
    "T = 300"
   ]
  },
  {
   "cell_type": "code",
   "execution_count": 5,
   "metadata": {
    "button": false,
    "new_sheet": false,
    "run_control": {
     "read_only": false
    }
   },
   "outputs": [],
   "source": [
    "#Positions/Bond Lengths/Angles\n",
    "r1 = 1.28\n",
    "r2 = r1\n",
    "alpha = 116.78 \n",
    "#Fortran values\n",
    "r1 =1.27200\n",
    "r2 = r1\n",
    "alpha =116.7800\n",
    "coord = coord_triatomic(alpha, r1, r2)"
   ]
  },
  {
   "cell_type": "code",
   "execution_count": 6,
   "metadata": {
    "button": false,
    "new_sheet": false,
    "run_control": {
     "read_only": false
    }
   },
   "outputs": [],
   "source": [
    "mass = ((element[molecule[0]] * u * kg_to_me), \n",
    "            (element[molecule[1]] * u * kg_to_me), \n",
    "            (element[molecule[2]] * u * kg_to_me))"
   ]
  },
  {
   "cell_type": "code",
   "execution_count": 7,
   "metadata": {
    "button": false,
    "new_sheet": false,
    "run_control": {
     "read_only": false
    }
   },
   "outputs": [],
   "source": [
    "B, I, COMcoord = rot_inertia_rcom(coord, mass)"
   ]
  },
  {
   "cell_type": "markdown",
   "metadata": {
    "button": false,
    "new_sheet": false,
    "run_control": {
     "read_only": false
    }
   },
   "source": [
    "### Calculations "
   ]
  },
  {
   "cell_type": "code",
   "execution_count": 8,
   "metadata": {
    "button": false,
    "new_sheet": false,
    "run_control": {
     "read_only": false
    }
   },
   "outputs": [],
   "source": [
    "Key, Pos =  Key_and_Pos(coord)"
   ]
  },
  {
   "cell_type": "code",
   "execution_count": 9,
   "metadata": {
    "button": false,
    "new_sheet": false,
    "run_control": {
     "read_only": false
    }
   },
   "outputs": [],
   "source": [
    "PES_func = PES(Key, Pos, molecule)"
   ]
  },
  {
   "cell_type": "code",
   "execution_count": 10,
   "metadata": {
    "button": false,
    "new_sheet": false,
    "run_control": {
     "read_only": false
    }
   },
   "outputs": [
    {
     "data": {
      "application/vnd.jupyter.widget-view+json": {
       "model_id": "1109b1bc00844118851bbbebb92eb6b6",
       "version_major": 2,
       "version_minor": 0
      },
      "text/plain": [
       "HBox(children=(FloatProgress(value=0.0, max=81.0), HTML(value='')))"
      ]
     },
     "metadata": {},
     "output_type": "display_data"
    },
    {
     "name": "stdout",
     "output_type": "stream",
     "text": [
      "\n"
     ]
    }
   ],
   "source": [
    "Hess = Hess_CART(Key, Pos, PES, molecule)"
   ]
  },
  {
   "cell_type": "code",
   "execution_count": 11,
   "metadata": {
    "button": false,
    "new_sheet": false,
    "run_control": {
     "read_only": false
    }
   },
   "outputs": [],
   "source": [
    "Hess_MWC_fin = Hess_MWC(Hess, Key, mass)"
   ]
  },
  {
   "cell_type": "code",
   "execution_count": 12,
   "metadata": {
    "button": false,
    "new_sheet": false,
    "run_control": {
     "read_only": false
    },
    "scrolled": false
   },
   "outputs": [],
   "source": [
    "eigvals, eigvecs, Hess_diag_au, Hess_diag_wn, fundamentals_au, fundamentals_wn = eigval_eigvec(Hess_MWC_fin)"
   ]
  },
  {
   "cell_type": "code",
   "execution_count": 13,
   "metadata": {
    "button": false,
    "new_sheet": false,
    "run_control": {
     "read_only": false
    }
   },
   "outputs": [],
   "source": [
    "eigvecs_UMW = UMW(eigvecs, mass, Key)"
   ]
  },
  {
   "cell_type": "code",
   "execution_count": 14,
   "metadata": {
    "button": false,
    "new_sheet": false,
    "run_control": {
     "read_only": false
    }
   },
   "outputs": [],
   "source": [
    "displace_vec, displace_val= displace_vec_and_val(eigvals, eigvecs_UMW)"
   ]
  },
  {
   "cell_type": "code",
   "execution_count": 15,
   "metadata": {
    "button": false,
    "new_sheet": false,
    "run_control": {
     "read_only": false
    },
    "scrolled": true
   },
   "outputs": [
    {
     "data": {
      "application/vnd.jupyter.widget-view+json": {
       "model_id": "80d3bf6faf8a473f8530923763d87b50",
       "version_major": 2,
       "version_minor": 0
      },
      "text/plain": [
       "HBox(children=(FloatProgress(value=0.0, max=9.0), HTML(value='')))"
      ]
     },
     "metadata": {},
     "output_type": "display_data"
    },
    {
     "name": "stdout",
     "output_type": "stream",
     "text": [
      "\n"
     ]
    }
   ],
   "source": [
    "cubic = cubic_CART(Key, Pos, displace_vec, displace_val, PES, molecule)"
   ]
  },
  {
   "cell_type": "code",
   "execution_count": 16,
   "metadata": {
    "button": false,
    "new_sheet": false,
    "run_control": {
     "read_only": false
    },
    "scrolled": true
   },
   "outputs": [
    {
     "data": {
      "application/vnd.jupyter.widget-view+json": {
       "model_id": "f3cc2ae38eaa46829a7cee7aed308281",
       "version_major": 2,
       "version_minor": 0
      },
      "text/plain": [
       "HBox(children=(FloatProgress(value=0.0, max=9.0), HTML(value='')))"
      ]
     },
     "metadata": {},
     "output_type": "display_data"
    },
    {
     "name": "stdout",
     "output_type": "stream",
     "text": [
      "\n"
     ]
    }
   ],
   "source": [
    "quartic = quartic_CART(Key, Pos, displace_vec, displace_val, PES, molecule)"
   ]
  },
  {
   "cell_type": "code",
   "execution_count": 17,
   "metadata": {
    "button": false,
    "new_sheet": false,
    "run_control": {
     "read_only": false
    },
    "scrolled": true
   },
   "outputs": [
    {
     "data": {
      "application/vnd.jupyter.widget-view+json": {
       "model_id": "6031ea1085634fc1910304f932ade77c",
       "version_major": 2,
       "version_minor": 0
      },
      "text/plain": [
       "HBox(children=(FloatProgress(value=0.0, max=9.0), HTML(value='')))"
      ]
     },
     "metadata": {},
     "output_type": "display_data"
    },
    {
     "name": "stdout",
     "output_type": "stream",
     "text": [
      "\n"
     ]
    }
   ],
   "source": [
    "sigma = sigma_ij(displace_val, cubic)"
   ]
  },
  {
   "cell_type": "code",
   "execution_count": 18,
   "metadata": {
    "button": false,
    "new_sheet": false,
    "run_control": {
     "read_only": false
    },
    "scrolled": true
   },
   "outputs": [],
   "source": [
    "deltaETOSH = deltaETOSH_ij(displace_val, cubic, quartic, sigma)"
   ]
  },
  {
   "cell_type": "code",
   "execution_count": 19,
   "metadata": {
    "button": false,
    "new_sheet": false,
    "run_control": {
     "read_only": false
    },
    "scrolled": true
   },
   "outputs": [],
   "source": [
    "allrot = all_rot_const(displace_vec, sigma, coord, mass, bohr_to_angstrom)"
   ]
  },
  {
   "cell_type": "code",
   "execution_count": 20,
   "metadata": {},
   "outputs": [
    {
     "name": "stdout",
     "output_type": "stream",
     "text": [
      "   harmonic_wn  anharmonic_wn     B_000   B_Freq1   B_Freq2   B_Freq3\n",
      "0  1088.759562    1069.261409  3.346580  3.305505  3.346580  3.321981\n",
      "1  1056.939123    1009.375092  0.422531  0.416227  0.422531  0.417414\n",
      "2   687.451021     670.370799  0.375163  0.369677  0.375163  0.370820\n"
     ]
    }
   ],
   "source": [
    "key_data = data_file_maker_triatomic(displace_val, deltaETOSH, B, allrot, \"O3_777_Dawes\")"
   ]
  },
  {
   "cell_type": "code",
   "execution_count": 21,
   "metadata": {
    "button": false,
    "new_sheet": false,
    "run_control": {
     "read_only": false
    }
   },
   "outputs": [],
   "source": [
    "J_max_arr, A_rot, B_rot, C_rot = J_max_func(B, T)"
   ]
  },
  {
   "cell_type": "code",
   "execution_count": 22,
   "metadata": {},
   "outputs": [
    {
     "name": "stdout",
     "output_type": "stream",
     "text": [
      "[[1069.26140907]\n",
      " [1009.3750917 ]\n",
      " [ 670.37079939]]\n"
     ]
    }
   ],
   "source": [
    "print(deltaETOSH)"
   ]
  },
  {
   "cell_type": "code",
   "execution_count": 23,
   "metadata": {},
   "outputs": [
    {
     "name": "stderr",
     "output_type": "stream",
     "text": [
      "100%|██████████| 74/74 [00:11<00:00,  6.38it/s] \n",
      "100%|██████████| 74/74 [00:10<00:00,  6.74it/s] \n",
      "100%|██████████| 74/74 [00:10<00:00,  6.80it/s] \n"
     ]
    }
   ],
   "source": [
    "P_nu1, P_rot_nu1, P_index_nu1 = asytop_v_P(1, J_max_arr, \"B\", deltaETOSH[0] , A_rot, allrot[0][0], B_rot, allrot[0][1], C_rot, allrot[0][2])\n",
    "\n",
    "Q_nu1, Q_rot_nu1, Q_index_nu1 = asytop_v_Q(1, J_max_arr, \"B\", deltaETOSH[0] , A_rot, allrot[0][0], B_rot, allrot[0][1], C_rot, allrot[0][2])\n",
    "\n",
    "R_nu1, R_rot_nu1, R_index_nu1 = asytop_v_R(1, J_max_arr, \"B\", deltaETOSH[0] , A_rot, allrot[0][0], B_rot, allrot[0][1], C_rot, allrot[0][2])\n",
    "##"
   ]
  },
  {
   "cell_type": "code",
   "execution_count": 24,
   "metadata": {},
   "outputs": [
    {
     "name": "stderr",
     "output_type": "stream",
     "text": [
      "100%|██████████| 74/74 [00:10<00:00,  6.77it/s] \n",
      "100%|██████████| 74/74 [00:10<00:00,  6.96it/s] \n",
      "100%|██████████| 74/74 [00:10<00:00,  6.80it/s] \n"
     ]
    }
   ],
   "source": [
    "P_nu2, P_rot_nu2, P_index_nu2 = asytop_v_P(1, J_max_arr, \"B\", deltaETOSH[2] , A_rot, allrot[2][0], B_rot, allrot[2][1], C_rot, allrot[2][2])\n",
    "\n",
    "Q_nu2, Q_rot_nu2, Q_index_nu2 = asytop_v_Q(1, J_max_arr, \"B\", deltaETOSH[2] , A_rot, allrot[2][0], B_rot, allrot[2][1], C_rot, allrot[2][2])\n",
    "\n",
    "R_nu2, R_rot_nu2, R_index_nu2 = asytop_v_R(1, J_max_arr, \"B\", deltaETOSH[2] , A_rot, allrot[2][0], B_rot, allrot[2][1], C_rot, allrot[2][2])\n",
    "##"
   ]
  },
  {
   "cell_type": "code",
   "execution_count": 25,
   "metadata": {},
   "outputs": [
    {
     "name": "stderr",
     "output_type": "stream",
     "text": [
      "100%|██████████| 74/74 [00:11<00:00,  6.44it/s] \n",
      "100%|██████████| 74/74 [00:10<00:00,  6.82it/s] \n",
      "100%|██████████| 74/74 [00:10<00:00,  7.17it/s] \n"
     ]
    }
   ],
   "source": [
    "P_nu3, P_rot_nu3, P_index_nu3 = asytop_v_P(2, J_max_arr, \"A\", deltaETOSH[1] , A_rot, allrot[1][0], B_rot, allrot[1][1], C_rot, allrot[1][2])\n",
    "\n",
    "Q_nu3, Q_rot_nu3, Q_index_nu3 = asytop_v_Q(2, J_max_arr, \"A\", deltaETOSH[1] , A_rot, allrot[1][0], B_rot, allrot[1][1], C_rot, allrot[1][2])\n",
    "\n",
    "R_nu3, R_rot_nu3, R_index_nu3 = asytop_v_R(2, J_max_arr, \"A\", deltaETOSH[1] , A_rot, allrot[1][0], B_rot, allrot[1][1], C_rot, allrot[1][2])\n",
    "##"
   ]
  },
  {
   "cell_type": "code",
   "execution_count": 26,
   "metadata": {
    "button": false,
    "new_sheet": false,
    "run_control": {
     "read_only": false
    }
   },
   "outputs": [],
   "source": [
    "nu1_I = Norm_I(P_rot_nu1, P_index_nu1, Q_rot_nu1, Q_index_nu1, R_rot_nu1, R_index_nu1, T, 1, 0.039)\n",
    "##"
   ]
  },
  {
   "cell_type": "code",
   "execution_count": 27,
   "metadata": {
    "button": false,
    "new_sheet": false,
    "run_control": {
     "read_only": false
    }
   },
   "outputs": [],
   "source": [
    "nu2_I = Norm_I(P_rot_nu2, P_index_nu2, Q_rot_nu2, Q_index_nu2, R_rot_nu2, R_index_nu2, T, 1, 0.047)\n",
    "##"
   ]
  },
  {
   "cell_type": "code",
   "execution_count": 28,
   "metadata": {
    "button": false,
    "new_sheet": false,
    "run_control": {
     "read_only": false
    }
   },
   "outputs": [],
   "source": [
    "nu3_I = Norm_I(P_rot_nu3, P_index_nu3, Q_rot_nu3, Q_index_nu3, R_rot_nu3, R_index_nu3, T, 1, 1)\n",
    "##"
   ]
  },
  {
   "cell_type": "code",
   "execution_count": 29,
   "metadata": {
    "button": false,
    "new_sheet": false,
    "run_control": {
     "read_only": false
    }
   },
   "outputs": [],
   "source": [
    "Final_I = Fin_I(nu1_I[0], nu1_I[1],nu1_I[2], nu2_I[0], nu2_I[1], nu2_I[2], nu3_I[0], nu3_I[1], nu3_I[2])\n",
    "##"
   ]
  },
  {
   "cell_type": "code",
   "execution_count": 30,
   "metadata": {},
   "outputs": [
    {
     "data": {
      "image/png": "[encoded data removed]",
      "text/plain": [
       "<Figure size 1152x576 with 1 Axes>"
      ]
     },
     "metadata": {
      "needs_background": "light"
     },
     "output_type": "display_data"
    }
   ],
   "source": [
    "plt.figure(figsize=(16,8))\n",
    "\n",
    "plt.vlines(P_nu1, 0, Final_I[0], \"coral\", label=\"Mode 100 (13DaLo)\", linewidth=.5)\n",
    "plt.vlines(Q_nu1, 0, Final_I[1], \"coral\", linewidth=.5)\n",
    "plt.vlines(R_nu1, 0, Final_I[2], \"coral\", linewidth=.5)\n",
    "\n",
    "plt.vlines(P_nu2, 0, Final_I[3], \"orangered\", label=\"Mode 010 (13DaLo)\",linewidth=.5)\n",
    "plt.vlines(Q_nu2, 0, Final_I[4], \"orangered\", linewidth=.5)\n",
    "plt.vlines(R_nu2, 0, Final_I[5], \"orangered\", linewidth=.5)\n",
    "\n",
    "plt.vlines(P_nu3, 0, Final_I[6], \"crimson\", label=\"Mode 001 (13DaLo)\", linewidth=.5)\n",
    "plt.vlines(Q_nu3, 0, Final_I[7], \"crimson\", linewidth=.5)\n",
    "plt.vlines(R_nu3, 0, Final_I[8], \"crimson\", linewidth=.5)\n",
    "\n",
    "plt.xlim(550, 1200)\n",
    "\n",
    "plt.xlabel(r\"Wavenumber (cm$^{-1}$)\", fontsize=16)\n",
    "plt.ylabel(r\"Normalized Intensity, $\\frac{N_J}{N}$\", fontsize=16)\n",
    "\n",
    "legend = plt.legend(loc = 'upper left', fontsize=16)\n",
    "for handl in legend.legendHandles:\n",
    "    handl.set_linewidth(3)\n",
    "\n",
    "plt.savefig(f\"EPI_O3_777_13DaLo_{T}K.pdf\")\n",
    "\n",
    "plt.show()"
   ]
  },
  {
   "cell_type": "code",
   "execution_count": null,
   "metadata": {},
   "outputs": [],
   "source": []
  },
  {
   "cell_type": "markdown",
   "metadata": {},
   "source": [
    "OTHER POTENTIAL"
   ]
  },
  {
   "cell_type": "code",
   "execution_count": 31,
   "metadata": {},
   "outputs": [],
   "source": [
    "from ipynb.fs.full.O3_PES_fortran_JT import PES"
   ]
  },
  {
   "cell_type": "code",
   "execution_count": 32,
   "metadata": {
    "button": false,
    "new_sheet": false,
    "run_control": {
     "read_only": false
    }
   },
   "outputs": [],
   "source": [
    "Key, Pos =  Key_and_Pos(coord)"
   ]
  },
  {
   "cell_type": "code",
   "execution_count": 33,
   "metadata": {
    "button": false,
    "new_sheet": false,
    "run_control": {
     "read_only": false
    }
   },
   "outputs": [],
   "source": [
    "PES_func = PES(Key, Pos, molecule)"
   ]
  },
  {
   "cell_type": "code",
   "execution_count": 34,
   "metadata": {
    "button": false,
    "new_sheet": false,
    "run_control": {
     "read_only": false
    }
   },
   "outputs": [
    {
     "data": {
      "application/vnd.jupyter.widget-view+json": {
       "model_id": "476c38faf97d4df7ae9dc9c8908ffde2",
       "version_major": 2,
       "version_minor": 0
      },
      "text/plain": [
       "HBox(children=(FloatProgress(value=0.0, max=81.0), HTML(value='')))"
      ]
     },
     "metadata": {},
     "output_type": "display_data"
    },
    {
     "name": "stdout",
     "output_type": "stream",
     "text": [
      "\n"
     ]
    }
   ],
   "source": [
    "Hess = Hess_CART(Key, Pos, PES, molecule)"
   ]
  },
  {
   "cell_type": "code",
   "execution_count": 35,
   "metadata": {
    "button": false,
    "new_sheet": false,
    "run_control": {
     "read_only": false
    }
   },
   "outputs": [],
   "source": [
    "Hess_MWC_fin = Hess_MWC(Hess, Key, mass)"
   ]
  },
  {
   "cell_type": "code",
   "execution_count": 36,
   "metadata": {
    "button": false,
    "new_sheet": false,
    "run_control": {
     "read_only": false
    },
    "scrolled": false
   },
   "outputs": [],
   "source": [
    "eigvals, eigvecs, Hess_diag_au, Hess_diag_wn, fundamentals_au, fundamentals_wn = eigval_eigvec(Hess_MWC_fin)"
   ]
  },
  {
   "cell_type": "code",
   "execution_count": 37,
   "metadata": {
    "button": false,
    "new_sheet": false,
    "run_control": {
     "read_only": false
    }
   },
   "outputs": [],
   "source": [
    "eigvecs_UMW = UMW(eigvecs, mass, Key)"
   ]
  },
  {
   "cell_type": "code",
   "execution_count": 38,
   "metadata": {
    "button": false,
    "new_sheet": false,
    "run_control": {
     "read_only": false
    }
   },
   "outputs": [],
   "source": [
    "displace_vec, displace_val= displace_vec_and_val(eigvals, eigvecs_UMW)"
   ]
  },
  {
   "cell_type": "code",
   "execution_count": 39,
   "metadata": {
    "button": false,
    "new_sheet": false,
    "run_control": {
     "read_only": false
    },
    "scrolled": true
   },
   "outputs": [
    {
     "data": {
      "application/vnd.jupyter.widget-view+json": {
       "model_id": "15031329380d4741a623ae0f05d7fe77",
       "version_major": 2,
       "version_minor": 0
      },
      "text/plain": [
       "HBox(children=(FloatProgress(value=0.0, max=9.0), HTML(value='')))"
      ]
     },
     "metadata": {},
     "output_type": "display_data"
    },
    {
     "name": "stdout",
     "output_type": "stream",
     "text": [
      "\n"
     ]
    }
   ],
   "source": [
    "cubic = cubic_CART(Key, Pos, displace_vec, displace_val, PES, molecule)"
   ]
  },
  {
   "cell_type": "code",
   "execution_count": 40,
   "metadata": {
    "button": false,
    "new_sheet": false,
    "run_control": {
     "read_only": false
    },
    "scrolled": true
   },
   "outputs": [
    {
     "data": {
      "application/vnd.jupyter.widget-view+json": {
       "model_id": "67cc170339a94c2eb79cebb9f378b4d9",
       "version_major": 2,
       "version_minor": 0
      },
      "text/plain": [
       "HBox(children=(FloatProgress(value=0.0, max=9.0), HTML(value='')))"
      ]
     },
     "metadata": {},
     "output_type": "display_data"
    },
    {
     "name": "stdout",
     "output_type": "stream",
     "text": [
      "\n"
     ]
    }
   ],
   "source": [
    "quartic = quartic_CART(Key, Pos, displace_vec, displace_val, PES, molecule)"
   ]
  },
  {
   "cell_type": "code",
   "execution_count": 41,
   "metadata": {
    "button": false,
    "new_sheet": false,
    "run_control": {
     "read_only": false
    },
    "scrolled": true
   },
   "outputs": [
    {
     "data": {
      "application/vnd.jupyter.widget-view+json": {
       "model_id": "555ecadc32374bd5b24a565f9053cf34",
       "version_major": 2,
       "version_minor": 0
      },
      "text/plain": [
       "HBox(children=(FloatProgress(value=0.0, max=9.0), HTML(value='')))"
      ]
     },
     "metadata": {},
     "output_type": "display_data"
    },
    {
     "name": "stdout",
     "output_type": "stream",
     "text": [
      "\n"
     ]
    }
   ],
   "source": [
    "sigma = sigma_ij(displace_val, cubic)"
   ]
  },
  {
   "cell_type": "code",
   "execution_count": 42,
   "metadata": {
    "button": false,
    "new_sheet": false,
    "run_control": {
     "read_only": false
    },
    "scrolled": true
   },
   "outputs": [],
   "source": [
    "deltaETOSH = deltaETOSH_ij(displace_val, cubic, quartic, sigma)"
   ]
  },
  {
   "cell_type": "code",
   "execution_count": 43,
   "metadata": {
    "button": false,
    "new_sheet": false,
    "run_control": {
     "read_only": false
    },
    "scrolled": true
   },
   "outputs": [],
   "source": [
    "allrot = all_rot_const(displace_vec, sigma, coord, mass, bohr_to_angstrom)"
   ]
  },
  {
   "cell_type": "code",
   "execution_count": 44,
   "metadata": {},
   "outputs": [
    {
     "name": "stdout",
     "output_type": "stream",
     "text": [
      "   harmonic_wn  anharmonic_wn     B_000   B_Freq1   B_Freq2   B_Freq3\n",
      "0  1100.834650    1088.461723  3.346580  3.304424  3.346580  3.321982\n",
      "1  1057.338144    1016.693754  0.422531  0.416348  0.422531  0.417657\n",
      "2   694.020169     681.735483  0.375163  0.369759  0.375163  0.371012\n"
     ]
    }
   ],
   "source": [
    "key_data = data_file_maker_triatomic(displace_val, deltaETOSH, B, allrot, \"O3_777_18PoZo\")"
   ]
  },
  {
   "cell_type": "code",
   "execution_count": 45,
   "metadata": {
    "button": false,
    "new_sheet": false,
    "run_control": {
     "read_only": false
    }
   },
   "outputs": [],
   "source": [
    "J_max_arr, A_rot, B_rot, C_rot = J_max_func(B, T)"
   ]
  },
  {
   "cell_type": "code",
   "execution_count": 46,
   "metadata": {},
   "outputs": [
    {
     "name": "stderr",
     "output_type": "stream",
     "text": [
      "100%|██████████| 74/74 [00:13<00:00,  5.45it/s] \n",
      "100%|██████████| 74/74 [00:13<00:00,  5.48it/s] \n",
      "100%|██████████| 74/74 [00:13<00:00,  5.59it/s] \n"
     ]
    }
   ],
   "source": [
    "P_nu1_pot2, P_rot_nu1_pot2, P_index_nu1_pot2 = asytop_v_P(1, J_max_arr, \"B\", deltaETOSH[0] , A_rot, allrot[0][0], B_rot, allrot[0][1], C_rot, allrot[0][2])\n",
    "\n",
    "Q_nu1_pot2, Q_rot_nu1_pot2, Q_index_nu1_pot2 = asytop_v_Q(1, J_max_arr, \"B\", deltaETOSH[0] , A_rot, allrot[0][0], B_rot, allrot[0][1], C_rot, allrot[0][2])\n",
    "\n",
    "R_nu1_pot2, R_rot_nu1_pot2, R_index_nu1_pot2 = asytop_v_R(1, J_max_arr, \"B\", deltaETOSH[0] , A_rot, allrot[0][0], B_rot, allrot[0][1], C_rot, allrot[0][2])\n",
    "##"
   ]
  },
  {
   "cell_type": "code",
   "execution_count": 47,
   "metadata": {},
   "outputs": [
    {
     "name": "stderr",
     "output_type": "stream",
     "text": [
      "100%|██████████| 74/74 [00:12<00:00,  6.17it/s] \n",
      "100%|██████████| 74/74 [00:10<00:00,  7.31it/s] \n",
      "100%|██████████| 74/74 [00:10<00:00,  7.11it/s] \n"
     ]
    }
   ],
   "source": [
    "P_nu2_pot2, P_rot_nu2_pot2, P_index_nu2_pot2 = asytop_v_P(1, J_max_arr, \"B\", deltaETOSH[2] , A_rot, allrot[2][0], B_rot, allrot[2][1], C_rot, allrot[2][2])\n",
    "\n",
    "Q_nu2_pot2, Q_rot_nu2_pot2, Q_index_nu2_pot2 = asytop_v_Q(1, J_max_arr, \"B\", deltaETOSH[2] , A_rot, allrot[2][0], B_rot, allrot[2][1], C_rot, allrot[2][2])\n",
    "\n",
    "R_nu2_pot2, R_rot_nu2_pot2, R_index_nu2_pot2 = asytop_v_R(1, J_max_arr, \"B\", deltaETOSH[2] , A_rot, allrot[2][0], B_rot, allrot[2][1], C_rot, allrot[2][2])\n",
    "##"
   ]
  },
  {
   "cell_type": "code",
   "execution_count": 48,
   "metadata": {},
   "outputs": [
    {
     "name": "stderr",
     "output_type": "stream",
     "text": [
      "100%|██████████| 74/74 [00:10<00:00,  6.80it/s] \n",
      "100%|██████████| 74/74 [00:10<00:00,  7.01it/s] \n",
      "100%|██████████| 74/74 [00:10<00:00,  6.93it/s] \n"
     ]
    }
   ],
   "source": [
    "P_nu3_pot2, P_rot_nu3_pot2, P_index_nu3_pot2 = asytop_v_P(2, J_max_arr, \"A\", deltaETOSH[1] , A_rot, allrot[1][0], B_rot, allrot[1][1], C_rot, allrot[1][2])\n",
    "\n",
    "Q_nu3_pot2, Q_rot_nu3_pot2, Q_index_nu3_pot2 = asytop_v_Q(2, J_max_arr, \"A\", deltaETOSH[1] , A_rot, allrot[1][0], B_rot, allrot[1][1], C_rot, allrot[1][2])\n",
    "\n",
    "R_nu3_pot2, R_rot_nu3_pot2, R_index_nu3_pot2 = asytop_v_R(2, J_max_arr, \"A\", deltaETOSH[1] , A_rot, allrot[1][0], B_rot, allrot[1][1], C_rot, allrot[1][2])\n",
    "##"
   ]
  },
  {
   "cell_type": "code",
   "execution_count": 49,
   "metadata": {
    "button": false,
    "new_sheet": false,
    "run_control": {
     "read_only": false
    }
   },
   "outputs": [],
   "source": [
    "nu1_I = Norm_I(P_rot_nu1_pot2, P_index_nu1_pot2, Q_rot_nu1_pot2, Q_index_nu1_pot2, R_rot_nu1_pot2, R_index_nu1_pot2, T, 1, 0.039)\n",
    "##_pot2"
   ]
  },
  {
   "cell_type": "code",
   "execution_count": 50,
   "metadata": {
    "button": false,
    "new_sheet": false,
    "run_control": {
     "read_only": false
    }
   },
   "outputs": [],
   "source": [
    "nu2_I = Norm_I(P_rot_nu2_pot2, P_index_nu2_pot2, Q_rot_nu2_pot2, Q_index_nu2_pot2, R_rot_nu2_pot2, R_index_nu2_pot2, T, 1, 0.047)\n",
    "##"
   ]
  },
  {
   "cell_type": "code",
   "execution_count": 51,
   "metadata": {
    "button": false,
    "new_sheet": false,
    "run_control": {
     "read_only": false
    }
   },
   "outputs": [],
   "source": [
    "nu3_I = Norm_I(P_rot_nu3_pot2, P_index_nu3_pot2, Q_rot_nu3_pot2, Q_index_nu3_pot2, R_rot_nu3_pot2, R_index_nu3_pot2, T, 1, 1)\n",
    "##"
   ]
  },
  {
   "cell_type": "code",
   "execution_count": 52,
   "metadata": {
    "button": false,
    "new_sheet": false,
    "run_control": {
     "read_only": false
    }
   },
   "outputs": [],
   "source": [
    "Final_I_pot2 = Fin_I(nu1_I[0], nu1_I[1],nu1_I[2], nu2_I[0], nu2_I[1], nu2_I[2], nu3_I[0], nu3_I[1], nu3_I[2])\n",
    "##"
   ]
  },
  {
   "cell_type": "code",
   "execution_count": 53,
   "metadata": {
    "scrolled": true
   },
   "outputs": [
    {
     "data": {
      "image/png": "[encoded data removed]",
      "text/plain": [
       "<Figure size 1152x576 with 1 Axes>"
      ]
     },
     "metadata": {
      "needs_background": "light"
     },
     "output_type": "display_data"
    }
   ],
   "source": [
    "plt.figure(figsize=(16,8))\n",
    "\n",
    "plt.vlines(P_nu1_pot2, 0, Final_I_pot2[0], \"darkorange\", label=\"Mode 100 (18PoZo)\", linewidth=.5)\n",
    "plt.vlines(Q_nu1_pot2, 0, Final_I_pot2[1], \"darkorange\", linewidth=.5)\n",
    "plt.vlines(R_nu1_pot2, 0, Final_I_pot2[2], \"darkorange\", linewidth=.5)\n",
    "\n",
    "plt.vlines(P_nu2_pot2, 0, Final_I_pot2[3], \"goldenrod\", label=\"Mode 010 (18PoZo)\",linewidth=.5)\n",
    "plt.vlines(Q_nu2_pot2, 0, Final_I_pot2[4], \"goldenrod\", linewidth=.5)\n",
    "plt.vlines(R_nu2_pot2, 0, Final_I_pot2[5], \"goldenrod\", linewidth=.5)\n",
    "\n",
    "plt.vlines(P_nu3_pot2, 0, Final_I_pot2[6], \"peru\", label=\"Mode 001 (18PoZo)\", linewidth=.5)\n",
    "plt.vlines(Q_nu3_pot2, 0, Final_I_pot2[7], \"peru\", linewidth=.5)\n",
    "plt.vlines(R_nu3_pot2, 0, Final_I_pot2[8], \"peru\", linewidth=.5)\n",
    "\n",
    "plt.xlim(550, 1200)\n",
    "\n",
    "plt.xlabel(r\"Wavenumber (cm$^{-1}$)\", fontsize=16)\n",
    "plt.ylabel(r\"Normalized Intensity, $\\frac{N_J}{N}$\", fontsize=16)\n",
    "\n",
    "legend = plt.legend(loc = 'upper left', fontsize=16)\n",
    "for handl in legend.legendHandles:\n",
    "    handl.set_linewidth(3)\n",
    "\n",
    "plt.savefig(f\"EPI_O3_777_18PoZo_{T}K.pdf\")\n",
    "\n",
    "plt.show()"
   ]
  },
  {
   "cell_type": "code",
   "execution_count": null,
   "metadata": {},
   "outputs": [],
   "source": []
  },
  {
   "cell_type": "markdown",
   "metadata": {},
   "source": [
    "Compare the two pots"
   ]
  },
  {
   "cell_type": "code",
   "execution_count": 54,
   "metadata": {
    "scrolled": true
   },
   "outputs": [
    {
     "data": {
      "image/png": "[encoded data removed]",
      "text/plain": [
       "<Figure size 1152x576 with 1 Axes>"
      ]
     },
     "metadata": {
      "needs_background": "light"
     },
     "output_type": "display_data"
    }
   ],
   "source": [
    "plt.figure(figsize=(16,8))\n",
    "\n",
    "plt.vlines(P_nu1, 0, Final_I[0], \"crimson\", label=\"Mode 100 (13DaLo)\", linewidth=.5)\n",
    "plt.vlines(Q_nu1, 0, Final_I[1], \"crimson\", linewidth=.5)\n",
    "plt.vlines(R_nu1, 0, Final_I[2], \"crimson\", linewidth=.5)\n",
    "\n",
    "plt.vlines(P_nu2, 0, Final_I[3], \"crimson\", label=\"Mode 010 (13DaLo)\",linewidth=.5)\n",
    "plt.vlines(Q_nu2, 0, Final_I[4], \"crimson\", linewidth=.5)\n",
    "plt.vlines(R_nu2, 0, Final_I[5], \"crimson\", linewidth=.5)\n",
    "\n",
    "plt.vlines(P_nu3, 0, Final_I[6], \"crimson\", label=\"Mode 001 (13DaLo)\", linewidth=.5)\n",
    "plt.vlines(Q_nu3, 0, Final_I[7], \"crimson\", linewidth=.5)\n",
    "plt.vlines(R_nu3, 0, Final_I[8], \"crimson\", linewidth=.5)\n",
    "\n",
    "plt.vlines(P_nu1_pot2, 0, -Final_I_pot2[0], \"peru\", label=\"Mode 100 (18PoZo)\", linewidth=.5)\n",
    "plt.vlines(Q_nu1_pot2, 0, -Final_I_pot2[1], \"peru\", linewidth=.5)\n",
    "plt.vlines(R_nu1_pot2, 0, -Final_I_pot2[2], \"peru\", linewidth=.5)\n",
    "\n",
    "plt.vlines(P_nu2_pot2, 0, -Final_I_pot2[3], \"peru\", label=\"Mode 010 (18PoZo)\",linewidth=.5)\n",
    "plt.vlines(Q_nu2_pot2, 0, -Final_I_pot2[4], \"peru\", linewidth=.5)\n",
    "plt.vlines(R_nu2_pot2, 0, -Final_I_pot2[5], \"peru\", linewidth=.5)\n",
    "\n",
    "plt.vlines(P_nu3_pot2, 0, -Final_I_pot2[6], \"peru\", label=\"Mode 001 (18PoZo)\", linewidth=.5)\n",
    "plt.vlines(Q_nu3_pot2, 0, -Final_I_pot2[7], \"peru\", linewidth=.5)\n",
    "plt.vlines(R_nu3_pot2, 0, -Final_I_pot2[8], \"peru\", linewidth=.5)\n",
    "\n",
    "plt.xlim(550, 1200)\n",
    "\n",
    "plt.xlabel(r\"Wavenumber (cm$^{-1}$)\", fontsize=16)\n",
    "plt.ylabel(r\"Normalized Intensity, $\\frac{N_J}{N}$\", fontsize=16)\n",
    "\n",
    "plt.annotate('13DaLo', xy=(0.9, 0.75), xytext=(0.9, 0.75), xycoords='axes fraction', \n",
    "            fontsize=16, ha='center', va='bottom', color=\"white\",\n",
    "            bbox=dict(boxstyle='square', fc='crimson'))\n",
    "plt.annotate('18PoZo', xy=(0.9, 0.25), xytext=(0.9, 0.25), xycoords='axes fraction', \n",
    "            fontsize=16, ha='center', va='bottom', color=\"white\",\n",
    "            bbox=dict(boxstyle='square', fc='peru'))\n",
    "\n",
    "#legend = plt.legend(loc = 'upper left', fontsize=16)\n",
    "#for handl in legend.legendHandles:\n",
    "#    handl.set_linewidth(3)\n",
    "\n",
    "plt.savefig(f\"EPI_O3_777_13DaLo_vs_18PoZo_{T}K.pdf\")\n",
    "\n",
    "plt.show()"
   ]
  },
  {
   "cell_type": "code",
   "execution_count": null,
   "metadata": {},
   "outputs": [],
   "source": []
  },
  {
   "cell_type": "code",
   "execution_count": null,
   "metadata": {},
   "outputs": [],
   "source": []
  },
  {
   "cell_type": "code",
   "execution_count": 55,
   "metadata": {
    "button": false,
    "new_sheet": false,
    "run_control": {
     "read_only": false
    }
   },
   "outputs": [],
   "source": [
    "J_max_arr, A_rot, B_rot, C_rot = J_max_func(B, T)"
   ]
  },
  {
   "cell_type": "code",
   "execution_count": 56,
   "metadata": {},
   "outputs": [
    {
     "name": "stderr",
     "output_type": "stream",
     "text": [
      "100%|██████████| 74/74 [00:10<00:00,  6.79it/s] \n",
      "100%|██████████| 74/74 [00:13<00:00,  5.40it/s] \n",
      "100%|██████████| 74/74 [00:14<00:00,  5.04it/s] \n"
     ]
    }
   ],
   "source": [
    "P_nu1_lit, P_rot_nu1_lit, P_index_nu1_lit = asytop_v_P(1, J_max_arr, \"B\", 1070.9 , A_rot, 3.347, B_rot, 0.417, C_rot, 0.369)\n",
    "\n",
    "Q_nu1_lit, Q_rot_nu1_lit, Q_index_nu1_lit = asytop_v_Q(1, J_max_arr, \"B\", 1070.9 , A_rot, 3.347, B_rot, 0.417, C_rot, 0.369)\n",
    "\n",
    "R_nu1_lit, R_rot_nu1_lit, R_index_nu1_lit = asytop_v_R(1, J_max_arr, \"B\", 1070.9 , A_rot, 3.347, B_rot, 0.417, C_rot, 0.369)\n",
    "##"
   ]
  },
  {
   "cell_type": "code",
   "execution_count": 57,
   "metadata": {},
   "outputs": [
    {
     "name": "stderr",
     "output_type": "stream",
     "text": [
      "100%|██████████| 74/74 [00:13<00:00,  5.44it/s] \n",
      "100%|██████████| 74/74 [00:11<00:00,  6.48it/s] \n",
      "100%|██████████| 74/74 [00:12<00:00,  5.91it/s] \n"
     ]
    }
   ],
   "source": [
    "P_nu2_lit, P_rot_nu2_lit, P_index_nu2_lit = asytop_v_P(1, J_max_arr, \"B\", 677.5 , A_rot, 3.273, B_rot, 0.419, C_rot, 0.369)\n",
    "\n",
    "Q_nu2_lit, Q_rot_nu2_lit, Q_index_nu2_lit = asytop_v_Q(1, J_max_arr, \"B\", 677.5 , A_rot, 3.273, B_rot, 0.419, C_rot, 0.369)\n",
    "\n",
    "R_nu2_lit, R_rot_nu2_lit, R_index_nu2_lit = asytop_v_R(1, J_max_arr, \"B\", 677.5 , A_rot, 3.273, B_rot, 0.419, C_rot, 0.369)\n",
    "##"
   ]
  },
  {
   "cell_type": "code",
   "execution_count": 58,
   "metadata": {},
   "outputs": [
    {
     "name": "stderr",
     "output_type": "stream",
     "text": [
      "100%|██████████| 74/74 [00:11<00:00,  6.41it/s] \n",
      "100%|██████████| 74/74 [00:10<00:00,  6.95it/s] \n",
      "100%|██████████| 74/74 [00:10<00:00,  6.87it/s] \n"
     ]
    }
   ],
   "source": [
    "P_nu3_lit, P_rot_nu3_lit, P_index_nu3_lit = asytop_v_P(2, J_max_arr, \"A\", 1012.2, A_rot, 3.296, B_rot, 0.415, C_rot, 0.368)\n",
    "\n",
    "Q_nu3_lit, Q_rot_nu3_lit, Q_index_nu3_lit = asytop_v_Q(2, J_max_arr, \"A\", 1012.2, A_rot, 3.296, B_rot, 0.415, C_rot, 0.368)\n",
    "\n",
    "R_nu3_lit, R_rot_nu3_lit, R_index_nu3_lit = asytop_v_R(2, J_max_arr, \"A\", 1012.2, A_rot, 3.296, B_rot, 0.415, C_rot, 0.368)\n",
    "##"
   ]
  },
  {
   "cell_type": "code",
   "execution_count": 59,
   "metadata": {
    "button": false,
    "new_sheet": false,
    "run_control": {
     "read_only": false
    }
   },
   "outputs": [],
   "source": [
    "nu1_I = Norm_I(P_rot_nu1_lit, P_index_nu1_lit, Q_rot_nu1_lit, Q_index_nu1_lit, R_rot_nu1_lit, R_index_nu1_lit, T, 1, 0.039)\n",
    "##_lit"
   ]
  },
  {
   "cell_type": "code",
   "execution_count": 60,
   "metadata": {
    "button": false,
    "new_sheet": false,
    "run_control": {
     "read_only": false
    }
   },
   "outputs": [],
   "source": [
    "nu2_I = Norm_I(P_rot_nu2_lit, P_index_nu2_lit, Q_rot_nu2_lit, Q_index_nu2_lit, R_rot_nu2_lit, R_index_nu2_lit, T, 1, 0.047)\n",
    "##"
   ]
  },
  {
   "cell_type": "code",
   "execution_count": 61,
   "metadata": {
    "button": false,
    "new_sheet": false,
    "run_control": {
     "read_only": false
    }
   },
   "outputs": [],
   "source": [
    "nu3_I = Norm_I(P_rot_nu3_lit, P_index_nu3_lit, Q_rot_nu3_lit, Q_index_nu3_lit, R_rot_nu3_lit, R_index_nu3_lit, T, 1, 1)\n",
    "##"
   ]
  },
  {
   "cell_type": "code",
   "execution_count": 62,
   "metadata": {
    "button": false,
    "new_sheet": false,
    "run_control": {
     "read_only": false
    }
   },
   "outputs": [],
   "source": [
    "Final_I_lit = Fin_I(nu1_I[0], nu1_I[1],nu1_I[2], nu2_I[0], nu2_I[1], nu2_I[2], nu3_I[0], nu3_I[1], nu3_I[2])\n",
    "##"
   ]
  },
  {
   "cell_type": "code",
   "execution_count": 63,
   "metadata": {},
   "outputs": [
    {
     "data": {
      "image/png": "[encoded data removed]",
      "text/plain": [
       "<Figure size 1152x576 with 1 Axes>"
      ]
     },
     "metadata": {
      "needs_background": "light"
     },
     "output_type": "display_data"
    }
   ],
   "source": [
    "plt.figure(figsize=(16,8))\n",
    "\n",
    "plt.vlines(P_nu1, 0, Final_I[0], \"crimson\", label=\"13DaLo\", linewidth=.5)\n",
    "plt.vlines(Q_nu1, 0, Final_I[1], \"crimson\", linewidth=.5)\n",
    "plt.vlines(R_nu1, 0, Final_I[2], \"crimson\", linewidth=.5)\n",
    "\n",
    "plt.vlines(P_nu2, 0, Final_I[3], \"crimson\", linewidth=.5)\n",
    "plt.vlines(Q_nu2, 0, Final_I[4], \"crimson\", linewidth=.5)\n",
    "plt.vlines(R_nu2, 0, Final_I[5], \"crimson\", linewidth=.5)\n",
    "\n",
    "plt.vlines(P_nu3, 0, Final_I[6], \"crimson\", linewidth=.5)\n",
    "plt.vlines(Q_nu3, 0, Final_I[7], \"crimson\", linewidth=.5)\n",
    "plt.vlines(R_nu3, 0, Final_I[8], \"crimson\", linewidth=.5)\n",
    "\n",
    "plt.vlines(P_nu1_pot2, 0, -Final_I_pot2[0], \"peru\", label=\"18PoZo\", linewidth=.5)\n",
    "plt.vlines(Q_nu1_pot2, 0, -Final_I_pot2[1], \"peru\", linewidth=.5)\n",
    "plt.vlines(R_nu1_pot2, 0, -Final_I_pot2[2], \"peru\", linewidth=.5)\n",
    "\n",
    "plt.vlines(P_nu2_pot2, 0, -Final_I_pot2[3], \"peru\", linewidth=.5)\n",
    "plt.vlines(Q_nu2_pot2, 0, -Final_I_pot2[4], \"peru\", linewidth=.5)\n",
    "plt.vlines(R_nu2_pot2, 0, -Final_I_pot2[5], \"peru\", linewidth=.5)\n",
    "\n",
    "plt.vlines(P_nu3_pot2, 0, -Final_I_pot2[6], \"peru\", linewidth=.5)\n",
    "plt.vlines(Q_nu3_pot2, 0, -Final_I_pot2[7], \"peru\", linewidth=.5)\n",
    "plt.vlines(R_nu3_pot2, 0, -Final_I_pot2[8], \"peru\", linewidth=.5)\n",
    "\n",
    "plt.vlines(P_nu1_lit, 0, Final_I_lit[0], \"navy\", linestyle=\"dotted\", label=\"Mode 100 (98FlBa)\",linewidth=.5)\n",
    "plt.vlines(Q_nu1_lit, 0, Final_I_lit[1], \"navy\", linestyle=\"dotted\",linewidth=.5)\n",
    "plt.vlines(R_nu1_lit, 0, Final_I_lit[2], \"navy\", linestyle=\"dotted\",linewidth=.5)\n",
    "plt.vlines(P_nu1_lit, 0, -Final_I_lit[0], \"navy\",linestyle=\"dotted\",linewidth=.5)\n",
    "plt.vlines(Q_nu1_lit, 0, -Final_I_lit[1], \"navy\", linestyle=\"dotted\",linewidth=.5)\n",
    "plt.vlines(R_nu1_lit, 0, -Final_I_lit[2], \"navy\", linestyle=\"dotted\",linewidth=.5)\n",
    "\n",
    "plt.vlines(P_nu3_lit, 0, Final_I_lit[6], \"blue\", linestyle=(0, (3, 5, 1, 5)), label=\"Mode 001 (98FlBa)\",linewidth=.5)\n",
    "plt.vlines(Q_nu3_lit, 0, Final_I_lit[7], \"blue\", linestyle=(0, (3, 5, 1, 5)),linewidth=.5)\n",
    "plt.vlines(R_nu3_lit, 0, Final_I_lit[8], \"blue\", linestyle=(0, (3, 5, 1, 5)),linewidth=.5)\n",
    "plt.vlines(P_nu3_lit, 0, -Final_I_lit[6], \"blue\",linestyle=(0, (3, 5, 1, 5)),linewidth=.5)\n",
    "plt.vlines(Q_nu3_lit, 0, -Final_I_lit[7], \"blue\", linestyle=(0, (3, 5, 1, 5)),linewidth=.5)\n",
    "plt.vlines(R_nu3_lit, 0, -Final_I_lit[8], \"blue\", linestyle=(0, (3, 5, 1, 5)),linewidth=.5)\n",
    "\n",
    "plt.xlim(550, 1200)\n",
    "\n",
    "plt.xlabel(r\"Wavenumber (cm$^{-1}$)\", fontsize=16)\n",
    "plt.ylabel(r\"Normalized Intensity, $\\frac{N_J}{N}$\", fontsize=16)\n",
    "\n",
    "#plt.annotate('13DaLo', xy=(0.9, 0.75), xytext=(0.9, 0.75), xycoords='axes fraction', \n",
    "##            fontsize=16, ha='center', va='bottom', color=\"white\",\n",
    "#            bbox=dict(boxstyle='square', fc='crimson'))\n",
    "#plt.annotate('18PoZo', xy=(0.9, 0.25), xytext=(0.9, 0.25), xycoords='axes fraction', \n",
    "#            fontsize=16, ha='center', va='bottom', color=\"white\",\n",
    "#            bbox=dict(boxstyle='square', fc='peru'))\n",
    "#plt.annotate('98FlBa', xy=(0.1, 0.25), xytext=(0.1, 0.25), xycoords='axes fraction', \n",
    "#            fontsize=16, ha='center', va='bottom', color=\"white\",\n",
    "#            bbox=dict(boxstyle='square', fc='blue'))\n",
    "\n",
    "legend = plt.legend(loc = 'upper left', fontsize=16)\n",
    "for handl in legend.legendHandles:\n",
    "    handl.set_linewidth(3)\n",
    "\n",
    "plt.savefig(f\"EPI_O3_777_13DaLo_vs_18PoZo_with_98FLBa_{T}K.pdf\")\n",
    "\n",
    "plt.show()"
   ]
  },
  {
   "cell_type": "code",
   "execution_count": null,
   "metadata": {},
   "outputs": [],
   "source": []
  },
  {
   "cell_type": "code",
   "execution_count": null,
   "metadata": {},
   "outputs": [],
   "source": []
  }
 ],
 "metadata": {
  "kernelspec": {
   "display_name": "Python 3",
   "language": "python",
   "name": "python3"
  },
  "language_info": {
   "codemirror_mode": {
    "name": "ipython",
    "version": 3
   },
   "file_extension": ".py",
   "mimetype": "text/x-python",
   "name": "python",
   "nbconvert_exporter": "python",
   "pygments_lexer": "ipython3",
   "version": "3.8.3"
  }
 },
 "nbformat": 4,
 "nbformat_minor": 4
}
