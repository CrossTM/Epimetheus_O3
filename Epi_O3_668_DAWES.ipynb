{
 "cells": [
  {
   "cell_type": "code",
   "execution_count": 1,
   "metadata": {
    "button": false,
    "new_sheet": false,
    "run_control": {
     "read_only": false
    }
   },
   "outputs": [],
   "source": [
    "#Essential Constants\n",
    "from scipy.constants import h, c, hbar, u, k\n",
    "\n",
    "#Imports from other script/s\n",
    "from ipynb.fs.full.Conversions_Epimetheus import * #Conversion Doc\n",
    "from ipynb.fs.full.Atomic_Mass_Key import element #Mass Key File\n",
    "from ipynb.fs.full.Epi_Functions import * #All Functions\n",
    "\n",
    "#General Imports\n",
    "import numpy as np\n",
    "import matplotlib.pyplot as plt\n",
    "import scipy.linalg as la\n",
    "import itertools\n",
    "import pandas as pd"
   ]
  },
  {
   "cell_type": "code",
   "execution_count": 2,
   "metadata": {
    "button": false,
    "new_sheet": false,
    "run_control": {
     "read_only": false
    }
   },
   "outputs": [],
   "source": [
    "#Import Desired PES\n",
    "#from ipynb.fs.full.O3_PES_via_02BaChCo import PES\n",
    "from ipynb.fs.full.O3_PES_fortran_DAWES import PES"
   ]
  },
  {
   "cell_type": "code",
   "execution_count": 3,
   "metadata": {
    "button": false,
    "new_sheet": false,
    "run_control": {
     "read_only": false
    }
   },
   "outputs": [],
   "source": [
    "#Import Desired Data\n",
    "HITRAN2016_link = \"https://hitran.org/results/640efd36.out\"\n",
    "if type(HITRAN2016_link) == str:\n",
    "    HITRAN2016_data = pd.read_csv(HITRAN2016_link, header=None, skiprows=None, sep=\"\\s+\")     \n",
    "    HITRAN2016_data.to_csv(\"O3_668_SPEC_HITRAN2016.csv\")\n",
    "    \n",
    "    HITRAN2016_freq = HITRAN2016_data.loc[:,0]\n",
    "    HITRAN2016_freq = np.array(HITRAN2016_freq)\n",
    "    \n",
    "    HITRAN2016_intensity = HITRAN2016_data.loc[:,1]\n",
    "    HITRAN2016_intensity = np.array(HITRAN2016_intensity)\n",
    "    HITRAN2016_intensity = np.divide(HITRAN2016_intensity, sum(HITRAN2016_intensity))\n",
    "    \n",
    "elif HITRAN2016_link == 1: \n",
    "    HITRAN2016_data = pd.read_csv(\"O3_668_SPEC_HITRAN2016.csv\", sep=\",\", header=None, skiprows=1)\n",
    "\n",
    "    HITRAN2016_freq = HITRAN2016_data.loc[:,1]\n",
    "    HITRAN2016_freq = np.array(HITRAN2016_freq)\n",
    "    \n",
    "    HITRAN2016_intensity = HITRAN2016_data.loc[:,2]\n",
    "    HITRAN2016_intensity = np.array(HITRAN2016_intensity)\n",
    "    HITRAN2016_intensity = np.divide(HITRAN2016_intensity, sum(HITRAN2016_intensity))"
   ]
  },
  {
   "cell_type": "markdown",
   "metadata": {
    "button": false,
    "new_sheet": false,
    "run_control": {
     "read_only": false
    }
   },
   "source": [
    "### Manual Inputs"
   ]
  },
  {
   "cell_type": "code",
   "execution_count": 4,
   "metadata": {
    "button": false,
    "new_sheet": false,
    "run_control": {
     "read_only": false
    }
   },
   "outputs": [],
   "source": [
    "#Temperature\n",
    "T = 300"
   ]
  },
  {
   "cell_type": "code",
   "execution_count": 5,
   "metadata": {
    "button": false,
    "new_sheet": false,
    "run_control": {
     "read_only": false
    }
   },
   "outputs": [],
   "source": [
    "#Positions/Bond Lengths/Angles\n",
    "r1 = 1.28\n",
    "r2 = r1\n",
    "alpha = 116.78 \n",
    "#Fortran values\n",
    "r1 =1.27200\n",
    "r2 = r1\n",
    "alpha =116.7800\n",
    "coord = coord_triatomic(alpha, r1, r2)"
   ]
  },
  {
   "cell_type": "code",
   "execution_count": 6,
   "metadata": {
    "button": false,
    "new_sheet": false,
    "run_control": {
     "read_only": false
    }
   },
   "outputs": [],
   "source": [
    "mass = ((element[\"O\"] * u * kg_to_me), \n",
    "            (element[\"O\"] * u * kg_to_me), \n",
    "            (element[\"O-18\"] * u * kg_to_me))"
   ]
  },
  {
   "cell_type": "code",
   "execution_count": 7,
   "metadata": {
    "button": false,
    "new_sheet": false,
    "run_control": {
     "read_only": false
    }
   },
   "outputs": [],
   "source": [
    "B, I, COMcoord = rot_inertia_rcom(coord, mass)"
   ]
  },
  {
   "cell_type": "markdown",
   "metadata": {
    "button": false,
    "new_sheet": false,
    "run_control": {
     "read_only": false
    }
   },
   "source": [
    "### Calculations "
   ]
  },
  {
   "cell_type": "code",
   "execution_count": 9,
   "metadata": {
    "button": false,
    "new_sheet": false,
    "run_control": {
     "read_only": false
    }
   },
   "outputs": [],
   "source": [
    "Key, Pos =  Key_and_Pos(coord)"
   ]
  },
  {
   "cell_type": "code",
   "execution_count": 10,
   "metadata": {
    "button": false,
    "new_sheet": false,
    "run_control": {
     "read_only": false
    }
   },
   "outputs": [],
   "source": [
    "PES_func = PES(Key)"
   ]
  },
  {
   "cell_type": "code",
   "execution_count": 11,
   "metadata": {
    "button": false,
    "new_sheet": false,
    "run_control": {
     "read_only": false
    }
   },
   "outputs": [],
   "source": [
    "Hess = Hess_CART(Key, Pos, PES)"
   ]
  },
  {
   "cell_type": "code",
   "execution_count": 12,
   "metadata": {
    "button": false,
    "new_sheet": false,
    "run_control": {
     "read_only": false
    }
   },
   "outputs": [],
   "source": [
    "Hess_MWC_fin = Hess_MWC(Hess, Key, mass)"
   ]
  },
  {
   "cell_type": "code",
   "execution_count": 13,
   "metadata": {
    "button": false,
    "new_sheet": false,
    "run_control": {
     "read_only": false
    }
   },
   "outputs": [
    {
     "name": "stdout",
     "output_type": "stream",
     "text": [
      "Fundamental frequencies [cm]^-1 =\n",
      "[1111.60890047 1071.45876262  692.17605041   50.74999847   25.86891963\n",
      "   32.04117861   31.50241197]\n"
     ]
    }
   ],
   "source": [
    "eigvals, eigvecs, Hess_diag_au, Hess_diag_wn, fundamentals_au, fundamentals_wn = eigval_eigvec(Hess_MWC_fin)"
   ]
  },
  {
   "cell_type": "code",
   "execution_count": 14,
   "metadata": {
    "button": false,
    "new_sheet": false,
    "run_control": {
     "read_only": false
    }
   },
   "outputs": [],
   "source": [
    "eigvecs_UMW = UMW(eigvecs, mass, Key)"
   ]
  },
  {
   "cell_type": "code",
   "execution_count": 15,
   "metadata": {
    "button": false,
    "new_sheet": false,
    "run_control": {
     "read_only": false
    }
   },
   "outputs": [],
   "source": [
    "displace_vec, displace_val= displace_vec_and_val(eigvals, eigvecs_UMW)"
   ]
  },
  {
   "cell_type": "code",
   "execution_count": 16,
   "metadata": {
    "button": false,
    "new_sheet": false,
    "run_control": {
     "read_only": false
    },
    "scrolled": true
   },
   "outputs": [],
   "source": [
    "cubic = cubic_CART(Key, Pos, displace_vec, displace_val, PES)"
   ]
  },
  {
   "cell_type": "code",
   "execution_count": 17,
   "metadata": {
    "button": false,
    "new_sheet": false,
    "run_control": {
     "read_only": false
    },
    "scrolled": true
   },
   "outputs": [],
   "source": [
    "quartic = quartic_CART(Key, Pos, displace_vec, displace_val, PES)"
   ]
  },
  {
   "cell_type": "code",
   "execution_count": 18,
   "metadata": {
    "button": false,
    "new_sheet": false,
    "run_control": {
     "read_only": false
    },
    "scrolled": true
   },
   "outputs": [],
   "source": [
    "sigma = sigma_ij(displace_val, cubic)\n"
   ]
  },
  {
   "cell_type": "code",
   "execution_count": 20,
   "metadata": {
    "button": false,
    "new_sheet": false,
    "run_control": {
     "read_only": false
    },
    "scrolled": true
   },
   "outputs": [
    {
     "name": "stdout",
     "output_type": "stream",
     "text": [
      "Corrected modes = [1083.23331265] vs OG = 1111.6092595613422\n",
      "Corrected modes = [1027.44213349] vs OG = 1071.4591087413144\n",
      "Corrected modes = [675.73185744] vs OG = 692.1762740112247\n"
     ]
    }
   ],
   "source": [
    "deltaETOSH = deltaETOSH_ij(displace_val, cubic, quartic, sigma)"
   ]
  },
  {
   "cell_type": "code",
   "execution_count": 21,
   "metadata": {
    "button": false,
    "new_sheet": false,
    "run_control": {
     "read_only": false
    },
    "scrolled": true
   },
   "outputs": [],
   "source": [
    "allrot = all_rot_const(displace_vec, sigma, coord, mass, bohr_to_angstrom)"
   ]
  },
  {
   "cell_type": "code",
   "execution_count": 22,
   "metadata": {
    "button": false,
    "new_sheet": false,
    "run_control": {
     "read_only": false
    }
   },
   "outputs": [
    {
     "name": "stdout",
     "output_type": "stream",
     "text": [
      "54\n"
     ]
    }
   ],
   "source": [
    "J_max_arr, A_rot, B_rot, C_rot = J_max_func(B, T)"
   ]
  },
  {
   "cell_type": "code",
   "execution_count": null,
   "metadata": {
    "button": false,
    "new_sheet": false,
    "run_control": {
     "read_only": false
    }
   },
   "outputs": [],
   "source": [
    "asy_k_value = asy_k(A_rot, B_rot, C_rot)"
   ]
  },
  {
   "cell_type": "code",
   "execution_count": null,
   "metadata": {
    "button": false,
    "new_sheet": false,
    "run_control": {
     "read_only": false
    },
    "scrolled": true
   },
   "outputs": [],
   "source": [
    "F_J_O = F_J(A_rot, B_rot, C_rot, J_max_arr)\n",
    "F_J_P = F_J(A_rot, B_rot, C_rot, J_max_arr)\n",
    "F_J_Q = F_J(A_rot, B_rot, C_rot, J_max_arr)\n",
    "F_J_R = F_J(A_rot, B_rot, C_rot, J_max_arr)\n",
    "F_J_S = F_J(A_rot, B_rot, C_rot, J_max_arr)\n",
    "##"
   ]
  },
  {
   "cell_type": "code",
   "execution_count": null,
   "metadata": {},
   "outputs": [],
   "source": [
    "v_O_m1, v_O_m1_J_index = asytop_v_O(J_max_arr, deltaETOSH[0] , A_rot, allrot[0][0], B_rot, allrot[0][1], C_rot, allrot[0][2])\n",
    "anharmv_O_m1 = v_O_m1\n",
    "#%store anharmv_O_m1\n",
    "v_P_m1, v_P_m1_J_index = asytop_v_P(J_max_arr, deltaETOSH[0] , A_rot, allrot[0][0], B_rot, allrot[0][1], C_rot, allrot[0][2])\n",
    "anharmv_P_m1 = v_P_m1\n",
    "#%store anharmv_P_m1\n",
    "v_Q_m1, v_Q_m1_J_index = asytop_v_Q(J_max_arr, deltaETOSH[0] , A_rot, allrot[0][0], B_rot, allrot[0][1], C_rot, allrot[0][2])\n",
    "anharmv_Q_m1 = v_Q_m1\n",
    "#%store anharmv_Q_m1\n",
    "v_R_m1, v_R_m1_J_index = asytop_v_R(J_max_arr, deltaETOSH[0] , A_rot, allrot[0][0], B_rot, allrot[0][1], C_rot, allrot[0][2])\n",
    "anharmv_R_m1 = v_R_m1\n",
    "#%store anharmv_R_m1\n",
    "v_S_m1, v_S_m1_J_index = asytop_v_S(J_max_arr, deltaETOSH[0] , A_rot, allrot[0][0], B_rot, allrot[0][1], C_rot, allrot[0][2])\n",
    "anharmv_S_m1 = v_S_m1\n",
    "#%store anharmv_S_m1\n",
    "##"
   ]
  },
  {
   "cell_type": "code",
   "execution_count": null,
   "metadata": {},
   "outputs": [],
   "source": [
    "v_O_m2, v_O_m2_J_index = asytop_v_O(J_max_arr, deltaETOSH[1] , A_rot, allrot[1][0], B_rot, allrot[1][1], C_rot, allrot[1][2])\n",
    "anharmv_O_m2 = v_O_m2\n",
    "#%store anharmv_O_m2\n",
    "v_P_m2, v_P_m2_J_index = asytop_v_P(J_max_arr, deltaETOSH[1] , A_rot, allrot[1][0], B_rot, allrot[1][1], C_rot, allrot[1][2])\n",
    "anharmv_P_m2 = v_P_m2\n",
    "#%store anharmv_P_m2\n",
    "v_Q_m2, v_Q_m2_J_index = asytop_v_Q(J_max_arr, deltaETOSH[1] , A_rot, allrot[1][0], B_rot, allrot[1][1], C_rot, allrot[1][2])\n",
    "anharmv_Q_m2 = v_Q_m2\n",
    "#%store anharmv_Q_m2\n",
    "v_R_m2, v_R_m2_J_index = asytop_v_R(J_max_arr, deltaETOSH[1] , A_rot, allrot[1][0], B_rot, allrot[1][1], C_rot, allrot[1][2])\n",
    "anharmv_R_m2 = v_R_m2\n",
    "#%store anharmv_R_m2\n",
    "v_S_m2, v_S_m2_J_index = asytop_v_S(J_max_arr, deltaETOSH[1] , A_rot, allrot[1][0], B_rot, allrot[1][1], C_rot, allrot[1][2])\n",
    "anharmv_S_m2 = v_S_m2\n",
    "#%store anharmv_S_m2\n",
    "##"
   ]
  },
  {
   "cell_type": "code",
   "execution_count": null,
   "metadata": {},
   "outputs": [],
   "source": [
    "v_O_m3, v_O_m3_J_index = asytop_v_O(J_max_arr, deltaETOSH[2] , A_rot, allrot[2][0], B_rot, allrot[2][1], C_rot, allrot[2][2])\n",
    "anharmv_O_m3 = v_O_m3\n",
    "#%store anharmv_O_m3\n",
    "v_P_m3, v_P_m3_J_index = asytop_v_P(J_max_arr, deltaETOSH[2] , A_rot, allrot[2][0], B_rot, allrot[2][1], C_rot, allrot[2][2])\n",
    "anharmv_P_m3 = v_P_m3\n",
    "#%store anharmv_P_m3\n",
    "v_Q_m3, v_Q_m3_J_index = asytop_v_Q(J_max_arr, deltaETOSH[2] , A_rot, allrot[2][0], B_rot, allrot[2][1], C_rot, allrot[2][2])\n",
    "anharmv_Q_m3 = v_Q_m3\n",
    "#%store anharmv_Q_m3\n",
    "v_R_m3, v_R_m3_J_index = asytop_v_R(J_max_arr, deltaETOSH[2] , A_rot, allrot[2][0], B_rot, allrot[2][1], C_rot, allrot[2][2])\n",
    "anharmv_R_m3 = v_R_m3\n",
    "#%store anharmv_R_m3\n",
    "v_S_m3, v_S_m3_J_index = asytop_v_S(J_max_arr, deltaETOSH[2] , A_rot, allrot[2][0], B_rot, allrot[2][1], C_rot, allrot[2][2])\n",
    "anharmv_S_m3 = v_S_m3\n",
    "#%store anharmv_S_m3\n",
    "##"
   ]
  },
  {
   "cell_type": "code",
   "execution_count": null,
   "metadata": {
    "button": false,
    "new_sheet": false,
    "run_control": {
     "read_only": false
    }
   },
   "outputs": [],
   "source": [
    "Tran_I_v_all_m1 = Norm_I(F_J_O, v_O_m1_J_index, F_J_P, v_P_m1_J_index, F_J_Q, v_Q_m1_J_index,F_J_R, v_R_m1_J_index,F_J_S, v_S_m1_J_index, T, 0, 0.062)\n",
    "##"
   ]
  },
  {
   "cell_type": "code",
   "execution_count": null,
   "metadata": {
    "button": false,
    "new_sheet": false,
    "run_control": {
     "read_only": false
    }
   },
   "outputs": [],
   "source": [
    "Tran_I_v_all_m2 = Norm_I(F_J_O, v_O_m2_J_index, F_J_P, v_P_m2_J_index, F_J_Q, v_Q_m2_J_index,F_J_R, v_R_m2_J_index,F_J_S, v_S_m2_J_index, T, 1, 0.774)\n",
    "##"
   ]
  },
  {
   "cell_type": "code",
   "execution_count": null,
   "metadata": {
    "button": false,
    "new_sheet": false,
    "run_control": {
     "read_only": false
    }
   },
   "outputs": [],
   "source": [
    "Tran_I_v_all_m3 = Norm_I(F_J_O, v_O_m3_J_index, F_J_P, v_P_m3_J_index, F_J_Q, v_Q_m3_J_index,F_J_R, v_R_m3_J_index,F_J_S, v_S_m3_J_index, T, 0, 0.164)\n",
    "##"
   ]
  },
  {
   "cell_type": "code",
   "execution_count": null,
   "metadata": {
    "button": false,
    "new_sheet": false,
    "run_control": {
     "read_only": false
    }
   },
   "outputs": [],
   "source": [
    "Final_I = Fin_I(Tran_I_v_all_m1[0], Tran_I_v_all_m1[1], Tran_I_v_all_m1[2], Tran_I_v_all_m1[3], Tran_I_v_all_m2[0], Tran_I_v_all_m2[1], Tran_I_v_all_m2[2], Tran_I_v_all_m2[3],Tran_I_v_all_m2[4], Tran_I_v_all_m3[0], Tran_I_v_all_m3[1], Tran_I_v_all_m3[2], Tran_I_v_all_m3[3])"
   ]
  },
  {
   "cell_type": "code",
   "execution_count": null,
   "metadata": {},
   "outputs": [],
   "source": [
    "#All taken from \"The ozone molecule: infrared and microwave spectroscopy\"\n",
    "# by J. M. Flaud and R. Bacis, 1997\n",
    "exp_B = (3.488135, 0.420008, 0.374009)\n",
    "exp_J_max_arr, exp_A_rot, exp_B_rot, exp_C_rot = J_max_func(exp_B, T)\n",
    "exp_asy_k_value = asy_k(exp_A_rot, exp_B_rot, exp_C_rot)\n",
    "exp_F_J_O = F_J(exp_A_rot, exp_B_rot, exp_C_rot, exp_J_max_arr)\n",
    "exp_F_J_P = F_J(exp_A_rot, exp_B_rot, exp_C_rot, exp_J_max_arr)\n",
    "exp_F_J_Q = F_J(exp_A_rot, exp_B_rot, exp_C_rot, exp_J_max_arr)\n",
    "exp_F_J_R = F_J(exp_A_rot, exp_B_rot, exp_C_rot, exp_J_max_arr)\n",
    "exp_F_J_S = F_J(exp_A_rot, exp_B_rot, exp_C_rot, exp_J_max_arr)\n",
    "\n",
    "mode_100 = 1090.354\n",
    "A_mode_100 = 3.492164\n",
    "B_mode_100 = 0.417723\n",
    "C_mode_100 = 0.371584\n",
    "exp_v_O_m1, exp_v_O_m1_J_index = asytop_v_O(exp_J_max_arr, mode_100 , exp_A_rot, A_mode_100, exp_B_rot, B_mode_100, exp_C_rot, C_mode_100)\n",
    "exp_v_P_m1, exp_v_P_m1_J_index = asytop_v_P(exp_J_max_arr, mode_100 , exp_A_rot, A_mode_100, exp_B_rot, B_mode_100, exp_C_rot, C_mode_100)\n",
    "exp_v_Q_m1, exp_v_Q_m1_J_index = asytop_v_Q(exp_J_max_arr, mode_100 , exp_A_rot, A_mode_100, exp_B_rot, B_mode_100, exp_C_rot, C_mode_100)\n",
    "exp_v_R_m1, exp_v_R_m1_J_index = asytop_v_R(exp_J_max_arr, mode_100 , exp_A_rot, A_mode_100, exp_B_rot, B_mode_100, exp_C_rot, C_mode_100)\n",
    "exp_v_S_m1, exp_v_S_m1_J_index = asytop_v_S(exp_J_max_arr, mode_100 , exp_A_rot, A_mode_100, exp_B_rot, B_mode_100, exp_C_rot, C_mode_100)\n",
    "\n",
    "mode_001 = 1028.112\n",
    "A_mode_001 = 3.437126\n",
    "B_mode_001 = 0.416232\n",
    "C_mode_001 = 0.370827\n",
    "exp_v_O_m2, exp_v_O_m2_J_index = asytop_v_O(exp_J_max_arr, mode_001 , exp_A_rot, A_mode_001, exp_B_rot, B_mode_001, exp_C_rot, C_mode_001)\n",
    "exp_v_P_m2, exp_v_P_m2_J_index = asytop_v_P(exp_J_max_arr, mode_001 , exp_A_rot, A_mode_001, exp_B_rot, B_mode_001, exp_C_rot, C_mode_001)\n",
    "exp_v_Q_m2, exp_v_Q_m2_J_index = asytop_v_Q(exp_J_max_arr, mode_001 , exp_A_rot, A_mode_001, exp_B_rot, B_mode_001, exp_C_rot, C_mode_001)\n",
    "exp_v_R_m2, exp_v_R_m2_J_index = asytop_v_R(exp_J_max_arr, mode_001 , exp_A_rot, A_mode_001, exp_B_rot, B_mode_001, exp_C_rot, C_mode_001)\n",
    "exp_v_S_m2, exp_v_S_m2_J_index = asytop_v_S(exp_J_max_arr, mode_001 , exp_A_rot, A_mode_001, exp_B_rot, B_mode_001, exp_C_rot, C_mode_001)\n",
    "\n",
    "\n",
    "mode_010 = 684.613\n",
    "A_mode_010 = 3.538177\n",
    "B_mode_010 = 0.418829\n",
    "C_mode_010 = 0.371940\n",
    "exp_v_O_m3, exp_v_O_m3_J_index = asytop_v_O(exp_J_max_arr, mode_010 , exp_A_rot, A_mode_010, exp_B_rot, B_mode_010, exp_C_rot, C_mode_010)\n",
    "exp_v_P_m3, exp_v_P_m3_J_index = asytop_v_P(exp_J_max_arr, mode_010 , exp_A_rot, A_mode_010, exp_B_rot, B_mode_010, exp_C_rot, C_mode_010)\n",
    "exp_v_Q_m3, exp_v_Q_m3_J_index = asytop_v_Q(exp_J_max_arr, mode_010 , exp_A_rot, A_mode_010, exp_B_rot, B_mode_010, exp_C_rot, C_mode_010)\n",
    "exp_v_R_m3, exp_v_R_m3_J_index = asytop_v_R(exp_J_max_arr, mode_010 , exp_A_rot, A_mode_010, exp_B_rot, B_mode_010, exp_C_rot, C_mode_010)\n",
    "exp_v_S_m3, exp_v_S_m3_J_index = asytop_v_S(exp_J_max_arr, mode_010 , exp_A_rot, A_mode_010, exp_B_rot, B_mode_010, exp_C_rot, C_mode_010)\n",
    "\n",
    "exp_Tran_I_v_all_m1 = Norm_I(exp_F_J_O, exp_v_O_m1_J_index, exp_F_J_P, exp_v_P_m1_J_index, exp_F_J_Q, exp_v_Q_m1_J_index, exp_F_J_R, exp_v_R_m1_J_index, exp_F_J_S, exp_v_S_m1_J_index, T, 0, 0.062)\n",
    "\n",
    "exp_Tran_I_v_all_m2 = Norm_I(exp_F_J_O, exp_v_O_m2_J_index, exp_F_J_P, exp_v_P_m2_J_index, exp_F_J_Q, exp_v_Q_m2_J_index, exp_F_J_R, exp_v_R_m2_J_index, exp_F_J_S, exp_v_S_m2_J_index, T, 1, 0.774)\n",
    "\n",
    "exp_Tran_I_v_all_m3 = Norm_I(exp_F_J_O, exp_v_O_m3_J_index, exp_F_J_P, exp_v_P_m3_J_index, exp_F_J_Q, exp_v_Q_m3_J_index, exp_F_J_R, exp_v_R_m3_J_index, exp_F_J_S, exp_v_S_m3_J_index, T, 0, 0.164)\n",
    "\n",
    "exp_Final_I = Fin_I(exp_Tran_I_v_all_m1[0], exp_Tran_I_v_all_m1[1], exp_Tran_I_v_all_m1[2], exp_Tran_I_v_all_m1[3], exp_Tran_I_v_all_m2[0], exp_Tran_I_v_all_m2[1], exp_Tran_I_v_all_m2[2], exp_Tran_I_v_all_m2[3], exp_Tran_I_v_all_m2[4], exp_Tran_I_v_all_m3[0], exp_Tran_I_v_all_m3[1], exp_Tran_I_v_all_m3[2], exp_Tran_I_v_all_m3[3])\n"
   ]
  },
  {
   "cell_type": "code",
   "execution_count": null,
   "metadata": {
    "button": false,
    "new_sheet": false,
    "run_control": {
     "read_only": false
    },
    "scrolled": true
   },
   "outputs": [],
   "source": [
    "plt.figure(figsize=(16,8))\n",
    "plt.vlines(HITRAN2016_freq,0, -HITRAN2016_intensity, color=\"k\", label=\"HITRAN 2016\", linewidth=.5)\n",
    "\n",
    "plt.vlines(v_O_m1, 0, Final_I[0], \"green\",label=\"Mode 100\", linewidth=.5)\n",
    "plt.vlines(v_P_m1, 0, Final_I[1], \"green\", linewidth=.5)\n",
    "plt.vlines(v_R_m1, 0, Final_I[2], \"green\", linewidth=.5)\n",
    "plt.vlines(v_S_m1, 0, Final_I[3], \"green\", linewidth=.5)\n",
    "\n",
    "plt.vlines(v_O_m2, 0, Final_I[4], \"blue\",label=\"Mode 001\", linewidth=.5)\n",
    "plt.vlines(v_P_m2, 0, Final_I[5], \"blue\", linewidth=.5)\n",
    "plt.vlines(v_Q_m2, 0, Final_I[6], \"blue\", linewidth=.5)\n",
    "plt.vlines(v_R_m2, 0, Final_I[7], \"blue\", linewidth=.5)\n",
    "plt.vlines(v_S_m2, 0, Final_I[8], \"blue\", linewidth=.5)\n",
    "\n",
    "plt.vlines(v_O_m3, 0, Final_I[9], \"red\",label=\"Mode 010\", linewidth=.5)\n",
    "plt.vlines(v_P_m3, 0, Final_I[10], \"red\", linewidth=.5)\n",
    "plt.vlines(v_R_m3, 0, Final_I[11], \"red\", linewidth=.5)\n",
    "plt.vlines(v_S_m3, 0, Final_I[12], \"red\", linewidth=.5)\n",
    "\n",
    "\n",
    "plt.xlim(550, 1250)\n",
    "plt.ylim(ymin=-max(HITRAN2016_intensity))\n",
    "plt.xlabel(\"Wavenumbers, cm$^{-1}$\")\n",
    "plt.legend(loc = 'lower left', fontsize=\"x-large\")\n",
    "plt.annotate(f'T={T}', xy=(0.5, 0.96), xytext=(0.5, .99), xycoords='axes fraction', \n",
    "            fontsize=16, ha='center', va='bottom',\n",
    "            bbox=dict(boxstyle='square', fc='white'))\n",
    "\n",
    "plt.savefig(f\"EPI_O3_668 @ {T}.pdf\")\n",
    "\n",
    "plt.show()"
   ]
  },
  {
   "cell_type": "code",
   "execution_count": null,
   "metadata": {},
   "outputs": [],
   "source": [
    "plt.figure(figsize=(16,8))\n",
    "plt.vlines(HITRAN2016_freq,0, -HITRAN2016_intensity, color=\"k\", label=\"HITRAN 2016\", linewidth=.5)\n",
    "\n",
    "plt.vlines(v_O_m1, 0, Final_I[0], \"green\", label= \"Epimetheus\", linewidth=.5)\n",
    "plt.vlines(v_P_m1, 0, Final_I[1], \"green\", linewidth=.5)\n",
    "plt.vlines(v_R_m1, 0, Final_I[2], \"green\", linewidth=.5)\n",
    "plt.vlines(v_S_m1, 0, Final_I[3], \"green\", linewidth=.5)\n",
    "\n",
    "plt.vlines(v_O_m2, 0, Final_I[4], \"green\", linewidth=.5)\n",
    "plt.vlines(v_P_m2, 0, Final_I[5], \"green\", linewidth=.5)\n",
    "plt.vlines(v_Q_m2, 0, Final_I[6], \"green\", linewidth=.5)\n",
    "plt.vlines(v_R_m2, 0, Final_I[7], \"green\", linewidth=.5)\n",
    "plt.vlines(v_S_m2, 0, Final_I[8], \"green\", linewidth=.5)\n",
    "\n",
    "plt.vlines(v_O_m3, 0, Final_I[9], \"green\", linewidth=.5)\n",
    "plt.vlines(v_P_m3, 0, Final_I[10], \"green\", linewidth=.5)\n",
    "plt.vlines(v_R_m3, 0, Final_I[11], \"green\", linewidth=.5)\n",
    "plt.vlines(v_S_m3, 0, Final_I[12], \"green\", linewidth=.5)\n",
    "\n",
    "plt.vlines(exp_v_O_m1, 0, exp_Final_I[0], \"red\", label= \"97FlBaXX\", linewidth=.5)\n",
    "plt.vlines(exp_v_P_m1, 0, exp_Final_I[1], \"red\", linewidth=.5)\n",
    "plt.vlines(exp_v_R_m1, 0, exp_Final_I[2], \"red\", linewidth=.5)\n",
    "plt.vlines(exp_v_S_m1, 0, exp_Final_I[3], \"red\", linewidth=.5)\n",
    "\n",
    "plt.vlines(exp_v_O_m2, 0, exp_Final_I[4], \"red\", linewidth=.5)\n",
    "plt.vlines(exp_v_P_m2, 0, exp_Final_I[5], \"red\", linewidth=.5)\n",
    "plt.vlines(exp_v_Q_m2, 0, exp_Final_I[6], \"red\", linewidth=.5)\n",
    "plt.vlines(exp_v_R_m2, 0, exp_Final_I[7], \"red\", linewidth=.5)\n",
    "plt.vlines(exp_v_S_m2, 0, exp_Final_I[8], \"red\", linewidth=.5)\n",
    "\n",
    "plt.vlines(exp_v_O_m3, 0, exp_Final_I[9], \"red\", linewidth=.5)\n",
    "plt.vlines(exp_v_P_m3, 0, exp_Final_I[10], \"red\", linewidth=.5)\n",
    "plt.vlines(exp_v_R_m3, 0, exp_Final_I[11], \"red\", linewidth=.5)\n",
    "plt.vlines(exp_v_S_m3, 0, exp_Final_I[12], \"red\", linewidth=.5)\n",
    "\n",
    "plt.xlim(550, 1250)\n",
    "plt.ylim(ymin=-max(HITRAN2016_intensity))\n",
    "plt.xlabel(\"Wavenumbers, cm$^{-1}$\")\n",
    "plt.legend(loc = 'lower left', fontsize=\"x-large\")\n",
    "plt.annotate(f'T={T}', xy=(0.5, 0.96), xytext=(0.5, .99), xycoords='axes fraction', \n",
    "            fontsize=16, ha='center', va='bottom',\n",
    "            bbox=dict(boxstyle='square', fc='white'))\n",
    "\n",
    "plt.savefig(f\"EPI_O3_668_vs_lit @ {T}.pdf\")\n",
    "\n",
    "plt.show()"
   ]
  },
  {
   "cell_type": "code",
   "execution_count": null,
   "metadata": {},
   "outputs": [],
   "source": []
  },
  {
   "cell_type": "code",
   "execution_count": null,
   "metadata": {},
   "outputs": [],
   "source": []
  }
 ],
 "metadata": {
  "kernelspec": {
   "display_name": "Python 3",
   "language": "python",
   "name": "python3"
  },
  "language_info": {
   "codemirror_mode": {
    "name": "ipython",
    "version": 3
   },
   "file_extension": ".py",
   "mimetype": "text/x-python",
   "name": "python",
   "nbconvert_exporter": "python",
   "pygments_lexer": "ipython3",
   "version": "3.8.3"
  }
 },
 "nbformat": 4,
 "nbformat_minor": 4
}
