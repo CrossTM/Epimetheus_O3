{
 "cells": [
  {
   "cell_type": "code",
   "execution_count": 30,
   "metadata": {
    "button": false,
    "new_sheet": false,
    "run_control": {
     "read_only": false
    }
   },
   "outputs": [],
   "source": [
    "#Essential Constants\n",
    "from scipy.constants import h, c, hbar, u, k\n",
    "\n",
    "#Imports from other script/s\n",
    "from ipynb.fs.full.Conversions_Epimetheus import * #Conversion Doc\n",
    "from ipynb.fs.full.Atomic_Mass_Key import element #Mass Key File\n",
    "from ipynb.fs.full.EpiPan_Functions import * #All Functions\n",
    "\n",
    "#General Imports\n",
    "import numpy as np\n",
    "import matplotlib.pyplot as plt\n",
    "import scipy.linalg as la\n",
    "import itertools\n",
    "import pandas as pd"
   ]
  },
  {
   "cell_type": "code",
   "execution_count": 31,
   "metadata": {
    "button": false,
    "new_sheet": false,
    "run_control": {
     "read_only": false
    }
   },
   "outputs": [],
   "source": [
    "#Import Desired PES\n",
    "from ipynb.fs.full.O3_PES_fortran_DAWES import PES"
   ]
  },
  {
   "cell_type": "markdown",
   "metadata": {
    "button": false,
    "new_sheet": false,
    "run_control": {
     "read_only": false
    }
   },
   "source": [
    "### Manual Inputs"
   ]
  },
  {
   "cell_type": "code",
   "execution_count": 32,
   "metadata": {
    "button": false,
    "new_sheet": false,
    "run_control": {
     "read_only": false
    }
   },
   "outputs": [],
   "source": [
    "#Temperature\n",
    "T = 300"
   ]
  },
  {
   "cell_type": "code",
   "execution_count": 33,
   "metadata": {},
   "outputs": [],
   "source": [
    "molecule = [\"O\", \"O-18\", \"O-18\"]"
   ]
  },
  {
   "cell_type": "code",
   "execution_count": 34,
   "metadata": {
    "button": false,
    "new_sheet": false,
    "run_control": {
     "read_only": false
    }
   },
   "outputs": [],
   "source": [
    "#Positions/Bond Lengths/Angles\n",
    "r1 = 1.28\n",
    "r2 = r1\n",
    "alpha = 116.78 \n",
    "#Fortran values\n",
    "r1 =1.27200\n",
    "r2 = r1\n",
    "alpha =116.7800\n",
    "coord = coord_triatomic(alpha, r1, r2)"
   ]
  },
  {
   "cell_type": "code",
   "execution_count": 35,
   "metadata": {
    "button": false,
    "new_sheet": false,
    "run_control": {
     "read_only": false
    }
   },
   "outputs": [],
   "source": [
    "mass = ((element[molecule[0]] * u * kg_to_me), \n",
    "            (element[molecule[1]] * u * kg_to_me), \n",
    "            (element[molecule[2]] * u * kg_to_me))"
   ]
  },
  {
   "cell_type": "code",
   "execution_count": 36,
   "metadata": {
    "button": false,
    "new_sheet": false,
    "run_control": {
     "read_only": false
    }
   },
   "outputs": [
    {
     "name": "stdout",
     "output_type": "stream",
     "text": [
      "R_com [0.04175849 0.43589942 0.        ]\n",
      "r_COMalpha [[-1.12503881  0.23079973  0.        ]\n",
      " [-0.04175849 -0.43589942  0.        ]\n",
      " [ 1.04152182  0.23079973  0.        ]]\n"
     ]
    }
   ],
   "source": [
    "B, I, COMcoord = rot_inertia_rcom(coord, mass)"
   ]
  },
  {
   "cell_type": "markdown",
   "metadata": {
    "button": false,
    "new_sheet": false,
    "run_control": {
     "read_only": false
    }
   },
   "source": [
    "### Calculations "
   ]
  },
  {
   "cell_type": "code",
   "execution_count": 37,
   "metadata": {
    "button": false,
    "new_sheet": false,
    "run_control": {
     "read_only": false
    }
   },
   "outputs": [],
   "source": [
    "Key, Pos =  Key_and_Pos(coord)"
   ]
  },
  {
   "cell_type": "code",
   "execution_count": 38,
   "metadata": {
    "button": false,
    "new_sheet": false,
    "run_control": {
     "read_only": false
    }
   },
   "outputs": [],
   "source": [
    "PES_func = PES(Key, Pos, molecule)"
   ]
  },
  {
   "cell_type": "code",
   "execution_count": 39,
   "metadata": {
    "button": false,
    "new_sheet": false,
    "run_control": {
     "read_only": false
    }
   },
   "outputs": [
    {
     "data": {
      "application/vnd.jupyter.widget-view+json": {
       "model_id": "cba33c683b864a2a81cfd1b9d187c952",
       "version_major": 2,
       "version_minor": 0
      },
      "text/plain": [
       "HBox(children=(FloatProgress(value=0.0, max=81.0), HTML(value='')))"
      ]
     },
     "metadata": {},
     "output_type": "display_data"
    },
    {
     "name": "stdout",
     "output_type": "stream",
     "text": [
      "\n"
     ]
    }
   ],
   "source": [
    "Hess = Hess_CART(Key, Pos, PES, molecule)"
   ]
  },
  {
   "cell_type": "code",
   "execution_count": 40,
   "metadata": {
    "button": false,
    "new_sheet": false,
    "run_control": {
     "read_only": false
    }
   },
   "outputs": [],
   "source": [
    "Hess_MWC_fin = Hess_MWC(Hess, Key, mass)"
   ]
  },
  {
   "cell_type": "code",
   "execution_count": 41,
   "metadata": {
    "button": false,
    "new_sheet": false,
    "run_control": {
     "read_only": false
    },
    "scrolled": false
   },
   "outputs": [],
   "source": [
    "eigvals, eigvecs, Hess_diag_au, Hess_diag_wn, fundamentals_au, fundamentals_wn = eigval_eigvec(Hess_MWC_fin)"
   ]
  },
  {
   "cell_type": "code",
   "execution_count": 42,
   "metadata": {
    "button": false,
    "new_sheet": false,
    "run_control": {
     "read_only": false
    }
   },
   "outputs": [],
   "source": [
    "eigvecs_UMW = UMW(eigvecs, mass, Key)"
   ]
  },
  {
   "cell_type": "code",
   "execution_count": 43,
   "metadata": {
    "button": false,
    "new_sheet": false,
    "run_control": {
     "read_only": false
    }
   },
   "outputs": [],
   "source": [
    "displace_vec, displace_val= displace_vec_and_val(eigvals, eigvecs_UMW)"
   ]
  },
  {
   "cell_type": "code",
   "execution_count": 44,
   "metadata": {
    "button": false,
    "new_sheet": false,
    "run_control": {
     "read_only": false
    },
    "scrolled": true
   },
   "outputs": [
    {
     "data": {
      "application/vnd.jupyter.widget-view+json": {
       "model_id": "77bc631e1ee0413fbb1cee73270e5690",
       "version_major": 2,
       "version_minor": 0
      },
      "text/plain": [
       "HBox(children=(FloatProgress(value=0.0, max=9.0), HTML(value='')))"
      ]
     },
     "metadata": {},
     "output_type": "display_data"
    },
    {
     "name": "stdout",
     "output_type": "stream",
     "text": [
      "\n"
     ]
    }
   ],
   "source": [
    "cubic = cubic_CART(Key, Pos, displace_vec, displace_val, PES, molecule)"
   ]
  },
  {
   "cell_type": "code",
   "execution_count": 45,
   "metadata": {
    "button": false,
    "new_sheet": false,
    "run_control": {
     "read_only": false
    },
    "scrolled": true
   },
   "outputs": [
    {
     "data": {
      "application/vnd.jupyter.widget-view+json": {
       "model_id": "4beb6a6b101a4976b84baceaab1524d1",
       "version_major": 2,
       "version_minor": 0
      },
      "text/plain": [
       "HBox(children=(FloatProgress(value=0.0, max=9.0), HTML(value='')))"
      ]
     },
     "metadata": {},
     "output_type": "display_data"
    },
    {
     "name": "stdout",
     "output_type": "stream",
     "text": [
      "\n"
     ]
    }
   ],
   "source": [
    "quartic = quartic_CART(Key, Pos, displace_vec, displace_val, PES, molecule)"
   ]
  },
  {
   "cell_type": "code",
   "execution_count": 46,
   "metadata": {
    "button": false,
    "new_sheet": false,
    "run_control": {
     "read_only": false
    },
    "scrolled": true
   },
   "outputs": [
    {
     "data": {
      "application/vnd.jupyter.widget-view+json": {
       "model_id": "d44f1eab6ce2446d8f656ebf8b8ebea1",
       "version_major": 2,
       "version_minor": 0
      },
      "text/plain": [
       "HBox(children=(FloatProgress(value=0.0, max=9.0), HTML(value='')))"
      ]
     },
     "metadata": {},
     "output_type": "display_data"
    },
    {
     "name": "stdout",
     "output_type": "stream",
     "text": [
      "\n"
     ]
    }
   ],
   "source": [
    "sigma = sigma_ij(displace_val, cubic)"
   ]
  },
  {
   "cell_type": "code",
   "execution_count": 47,
   "metadata": {
    "button": false,
    "new_sheet": false,
    "run_control": {
     "read_only": false
    },
    "scrolled": true
   },
   "outputs": [],
   "source": [
    "deltaETOSH = deltaETOSH_ij(displace_val, cubic, quartic, sigma)"
   ]
  },
  {
   "cell_type": "code",
   "execution_count": 48,
   "metadata": {
    "button": false,
    "new_sheet": false,
    "run_control": {
     "read_only": false
    },
    "scrolled": true
   },
   "outputs": [
    {
     "name": "stdout",
     "output_type": "stream",
     "text": [
      "R_com [4.17582597e-02 4.35903733e-01 4.65405047e-19]\n",
      "r_COMalpha [[-1.12283770e+00  2.35577786e-01  9.48254707e-19]\n",
      " [-4.66966228e-02 -4.47427407e-01 -3.77597838e-19]\n",
      " [ 1.04450394e+00  2.38081712e-01 -4.65066676e-19]]\n",
      "R_com [4.17583411e-02 4.35900723e-01 1.49980587e-19]\n",
      "r_COMalpha [[-1.12222768e+00  2.31117263e-01  3.09904166e-19]\n",
      " [-4.52277546e-02 -4.38596495e-01 -1.25536348e-19]\n",
      " [ 1.04249298e+00  2.33214634e-01 -1.49859325e-19]]\n",
      "R_com [ 4.17586988e-02  4.35896009e-01 -3.75792819e-19]\n",
      "r_COMalpha [[-1.12744457e+00  2.27174323e-01 -7.68155434e-19]\n",
      " [-3.82571307e-02 -4.27303296e-01  3.07098674e-19]\n",
      " [ 1.04015833e+00  2.25425321e-01  3.75521007e-19]]\n"
     ]
    }
   ],
   "source": [
    "allrot = all_rot_const(displace_vec, sigma, coord, mass, bohr_to_angstrom)"
   ]
  },
  {
   "cell_type": "code",
   "execution_count": 49,
   "metadata": {},
   "outputs": [
    {
     "name": "stdout",
     "output_type": "stream",
     "text": [
      "   harmonic_wn  anharmonic_wn     B_000   B_Freq1   B_Freq2   B_Freq3\n",
      "0  1080.859395    1055.020224  3.227242  3.065050  3.189197  3.357065\n",
      "1  1034.852786     993.058300  0.423468  0.422993  0.424070  0.423167\n",
      "2   684.297572     668.393932  0.374347  0.371697  0.374299  0.375797\n"
     ]
    }
   ],
   "source": [
    "key_data = data_file_maker_triatomic(displace_val, deltaETOSH, B, allrot, \"O3_688_13DaLo_specconst\")"
   ]
  },
  {
   "cell_type": "code",
   "execution_count": 50,
   "metadata": {
    "button": false,
    "new_sheet": false,
    "run_control": {
     "read_only": false
    }
   },
   "outputs": [],
   "source": [
    "J_max_arr, A_rot, B_rot, C_rot = J_max_func(B, T)"
   ]
  },
  {
   "cell_type": "code",
   "execution_count": 51,
   "metadata": {},
   "outputs": [
    {
     "name": "stderr",
     "output_type": "stream",
     "text": [
      "100%|██████████| 76/76 [00:10<00:00,  7.10it/s] \n",
      "100%|██████████| 76/76 [00:10<00:00,  7.13it/s] \n",
      "100%|██████████| 76/76 [00:11<00:00,  6.86it/s] \n"
     ]
    }
   ],
   "source": [
    "P_nu1, P_rot_nu1, P_index_nu1 = asytop_v_P(1, J_max_arr, \"B\", deltaETOSH[0] , A_rot, allrot[0][0], B_rot, allrot[0][1], C_rot, allrot[0][2])\n",
    "\n",
    "Q_nu1, Q_rot_nu1, Q_index_nu1 = asytop_v_Q(1, J_max_arr, \"B\", deltaETOSH[0] , A_rot, allrot[0][0], B_rot, allrot[0][1], C_rot, allrot[0][2])\n",
    "\n",
    "R_nu1, R_rot_nu1, R_index_nu1 = asytop_v_R(1, J_max_arr, \"B\", deltaETOSH[0] , A_rot, allrot[0][0], B_rot, allrot[0][1], C_rot, allrot[0][2])\n",
    "##"
   ]
  },
  {
   "cell_type": "code",
   "execution_count": 52,
   "metadata": {},
   "outputs": [
    {
     "name": "stderr",
     "output_type": "stream",
     "text": [
      "100%|██████████| 76/76 [00:11<00:00,  6.68it/s] \n",
      "100%|██████████| 76/76 [00:11<00:00,  6.91it/s] \n",
      "100%|██████████| 76/76 [00:13<00:00,  5.81it/s] \n"
     ]
    }
   ],
   "source": [
    "P_nu2, P_rot_nu2, P_index_nu2 = asytop_v_P(1, J_max_arr, \"B\", deltaETOSH[2] , A_rot, allrot[2][0], B_rot, allrot[2][1], C_rot, allrot[2][2])\n",
    "\n",
    "Q_nu2, Q_rot_nu2, Q_index_nu2 = asytop_v_Q(1, J_max_arr, \"B\", deltaETOSH[2] , A_rot, allrot[2][0], B_rot, allrot[2][1], C_rot, allrot[2][2])\n",
    "\n",
    "R_nu2, R_rot_nu2, R_index_nu2 = asytop_v_R(1, J_max_arr, \"B\", deltaETOSH[2] , A_rot, allrot[2][0], B_rot, allrot[2][1], C_rot, allrot[2][2])\n",
    "##"
   ]
  },
  {
   "cell_type": "code",
   "execution_count": 53,
   "metadata": {},
   "outputs": [
    {
     "name": "stderr",
     "output_type": "stream",
     "text": [
      "100%|██████████| 76/76 [00:16<00:00,  4.54it/s]\n",
      "100%|██████████| 76/76 [00:12<00:00,  5.97it/s] \n",
      "100%|██████████| 76/76 [00:11<00:00,  6.83it/s] \n"
     ]
    }
   ],
   "source": [
    "P_nu3, P_rot_nu3, P_index_nu3 = asytop_v_P(2, J_max_arr, \"A\", deltaETOSH[1] , A_rot, allrot[1][0], B_rot, allrot[1][1], C_rot, allrot[1][2])\n",
    "\n",
    "Q_nu3, Q_rot_nu3, Q_index_nu3 = asytop_v_Q(2, J_max_arr, \"A\", deltaETOSH[1] , A_rot, allrot[1][0], B_rot, allrot[1][1], C_rot, allrot[1][2])\n",
    "\n",
    "R_nu3, R_rot_nu3, R_index_nu3 = asytop_v_R(2, J_max_arr, \"A\", deltaETOSH[1] , A_rot, allrot[1][0], B_rot, allrot[1][1], C_rot, allrot[1][2])\n",
    "##"
   ]
  },
  {
   "cell_type": "code",
   "execution_count": 54,
   "metadata": {
    "button": false,
    "new_sheet": false,
    "run_control": {
     "read_only": false
    }
   },
   "outputs": [],
   "source": [
    "nu1_I = Norm_I(P_rot_nu1, P_index_nu1, Q_rot_nu1, Q_index_nu1, R_rot_nu1, R_index_nu1, T, 1, 0.039)\n",
    "##"
   ]
  },
  {
   "cell_type": "code",
   "execution_count": 55,
   "metadata": {
    "button": false,
    "new_sheet": false,
    "run_control": {
     "read_only": false
    }
   },
   "outputs": [],
   "source": [
    "nu2_I = Norm_I(P_rot_nu2, P_index_nu2, Q_rot_nu2, Q_index_nu2, R_rot_nu2, R_index_nu2, T, 1, 0.047)\n",
    "##"
   ]
  },
  {
   "cell_type": "code",
   "execution_count": 56,
   "metadata": {
    "button": false,
    "new_sheet": false,
    "run_control": {
     "read_only": false
    }
   },
   "outputs": [],
   "source": [
    "nu3_I = Norm_I(P_rot_nu3, P_index_nu3, Q_rot_nu3, Q_index_nu3, R_rot_nu3, R_index_nu3, T, 1, 1)\n",
    "##"
   ]
  },
  {
   "cell_type": "code",
   "execution_count": 57,
   "metadata": {
    "button": false,
    "new_sheet": false,
    "run_control": {
     "read_only": false
    }
   },
   "outputs": [],
   "source": [
    "Final_I = Fin_I(nu1_I[0], nu1_I[1],nu1_I[2], nu2_I[0], nu2_I[1], nu2_I[2], nu3_I[0], nu3_I[1], nu3_I[2])\n",
    "##"
   ]
  },
  {
   "cell_type": "code",
   "execution_count": null,
   "metadata": {},
   "outputs": [],
   "source": []
  },
  {
   "cell_type": "code",
   "execution_count": 58,
   "metadata": {},
   "outputs": [
    {
     "data": {
      "text/plain": [
       "<matplotlib.collections.LineCollection at 0x7ff1dfc0a520>"
      ]
     },
     "execution_count": 58,
     "metadata": {},
     "output_type": "execute_result"
    },
    {
     "data": {
      "image/png": "[encoded data removed]",
      "text/plain": [
       "<Figure size 1152x576 with 1 Axes>"
      ]
     },
     "metadata": {
      "needs_background": "light"
     },
     "output_type": "display_data"
    }
   ],
   "source": [
    "Pos = np.concatenate((P_nu1, Q_nu1, R_nu1, P_nu2, Q_nu2, R_nu2, P_nu3, Q_nu3, R_nu3))\n",
    "Pos = np.reshape(Pos, (len(Pos),1))\n",
    "Int = np.concatenate((Final_I[0], Final_I[1], Final_I[2], Final_I[3], Final_I[4], Final_I[5], Final_I[6], Final_I[7], Final_I[8]))\n",
    "Int = np.reshape(Int, (len(Int),1))\n",
    "Pos_and_Int = np.concatenate((Pos,Int), axis=1)\n",
    "np.savetxt(\"O3_688_13DaLo_outputdata_WN_and_INT.txt\", Pos_and_Int, delimiter=\",\")\n",
    "#Quick double check of the data saved\n",
    "plt.figure(figsize=(16,8))\n",
    "plt.vlines(Pos_and_Int[:,0],0,Pos_and_Int[:,1])"
   ]
  },
  {
   "cell_type": "code",
   "execution_count": null,
   "metadata": {},
   "outputs": [],
   "source": []
  }
 ],
 "metadata": {
  "kernelspec": {
   "display_name": "Python 3",
   "language": "python",
   "name": "python3"
  },
  "language_info": {
   "codemirror_mode": {
    "name": "ipython",
    "version": 3
   },
   "file_extension": ".py",
   "mimetype": "text/x-python",
   "name": "python",
   "nbconvert_exporter": "python",
   "pygments_lexer": "ipython3",
   "version": "3.8.3"
  }
 },
 "nbformat": 4,
 "nbformat_minor": 4
}
