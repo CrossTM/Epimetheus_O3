{
 "cells": [
  {
   "cell_type": "code",
   "execution_count": 1,
   "metadata": {
    "button": false,
    "new_sheet": false,
    "run_control": {
     "read_only": false
    }
   },
   "outputs": [
    {
     "name": "stderr",
     "output_type": "stream",
     "text": [
      "/Users/thomascross/opt/anaconda3/lib/python3.8/site-packages/pyscf/dft/libxc.py:771: UserWarning: Since PySCF-2.3, B3LYP (and B3P86) are changed to the VWN-RPA variant, corresponding to the original definition by Stephens et al. (issue 1480) and the same as the B3LYP functional in Gaussian. To restore the VWN5 definition, you can put the setting \"B3LYP_WITH_VWN5 = True\" in pyscf_conf.py\n",
      "  warnings.warn('Since PySCF-2.3, B3LYP (and B3P86) are changed to the VWN-RPA variant, '\n"
     ]
    }
   ],
   "source": [
    "#Essential Constants\n",
    "from scipy.constants import h, c, hbar, u, k\n",
    "\n",
    "#Imports from other script/s\n",
    "from ipynb.fs.full.Conversions_Epimetheus import * #Conversion Doc\n",
    "from ipynb.fs.full.Atomic_Mass_Key import element #Mass Key File\n",
    "from ipynb.fs.full.EpiPan_Functions import * #All Functions\n",
    "\n",
    "#General Imports\n",
    "import numpy as np\n",
    "import matplotlib.pyplot as plt\n",
    "import scipy.linalg as la\n",
    "import itertools\n",
    "import pandas as pd"
   ]
  },
  {
   "cell_type": "code",
   "execution_count": 2,
   "metadata": {
    "button": false,
    "new_sheet": false,
    "run_control": {
     "read_only": false
    }
   },
   "outputs": [],
   "source": [
    "#Import Desired PES\n",
    "from ipynb.fs.full.O3_PES_fortran_DAWES import PES"
   ]
  },
  {
   "cell_type": "code",
   "execution_count": 3,
   "metadata": {
    "button": false,
    "new_sheet": false,
    "run_control": {
     "read_only": false
    }
   },
   "outputs": [],
   "source": [
    "#Import Desired Data // From S&MPO\n",
    "primedata = pd.read_csv(\"O3_888_SPEC_SMPO.txt\", sep=\"\\s+\", header=None, skiprows=5)\n",
    "\n",
    "prime_freq = primedata.loc[:,2]\n",
    "prime_freq = np.array(prime_freq)\n",
    "    \n",
    "prime_intensity = primedata.loc[:,3]\n",
    "prime_intensity = np.array(prime_intensity)\n",
    "prime_intensity = np.divide(prime_intensity, sum(prime_intensity))"
   ]
  },
  {
   "cell_type": "markdown",
   "metadata": {
    "button": false,
    "new_sheet": false,
    "run_control": {
     "read_only": false
    }
   },
   "source": [
    "### Manual Inputs"
   ]
  },
  {
   "cell_type": "code",
   "execution_count": 4,
   "metadata": {
    "button": false,
    "new_sheet": false,
    "run_control": {
     "read_only": false
    }
   },
   "outputs": [],
   "source": [
    "#Temperature\n",
    "T = 300"
   ]
  },
  {
   "cell_type": "code",
   "execution_count": 5,
   "metadata": {},
   "outputs": [],
   "source": [
    "molecule = [\"O-18\", \"O-18\", \"O-18\"]"
   ]
  },
  {
   "cell_type": "code",
   "execution_count": 6,
   "metadata": {
    "button": false,
    "new_sheet": false,
    "run_control": {
     "read_only": false
    }
   },
   "outputs": [],
   "source": [
    "#Positions/Bond Lengths/Angles\n",
    "r1 = 1.28\n",
    "r2 = r1\n",
    "alpha = 116.78 \n",
    "#Fortran values\n",
    "r1 =1.27200\n",
    "r2 = r1\n",
    "alpha =116.7800\n",
    "coord = coord_triatomic(alpha, r1, r2)"
   ]
  },
  {
   "cell_type": "code",
   "execution_count": 7,
   "metadata": {
    "button": false,
    "new_sheet": false,
    "run_control": {
     "read_only": false
    }
   },
   "outputs": [],
   "source": [
    "mass = ((element[molecule[0]] * u * kg_to_me), \n",
    "            (element[molecule[1]] * u * kg_to_me), \n",
    "            (element[molecule[2]] * u * kg_to_me))"
   ]
  },
  {
   "cell_type": "code",
   "execution_count": 8,
   "metadata": {
    "button": false,
    "new_sheet": false,
    "run_control": {
     "read_only": false
    }
   },
   "outputs": [
    {
     "name": "stdout",
     "output_type": "stream",
     "text": [
      "R_com [0.        0.4444661 0.       ]\n",
      "r_COMalpha [[-1.08328032  0.22223305  0.        ]\n",
      " [ 0.         -0.4444661   0.        ]\n",
      " [ 1.08328032  0.22223305  0.        ]]\n"
     ]
    }
   ],
   "source": [
    "B, I, COMcoord = rot_inertia_rcom(coord, mass)"
   ]
  },
  {
   "cell_type": "markdown",
   "metadata": {
    "button": false,
    "new_sheet": false,
    "run_control": {
     "read_only": false
    }
   },
   "source": [
    "### Calculations "
   ]
  },
  {
   "cell_type": "code",
   "execution_count": 9,
   "metadata": {
    "button": false,
    "new_sheet": false,
    "run_control": {
     "read_only": false
    }
   },
   "outputs": [],
   "source": [
    "Key, Pos =  Key_and_Pos(coord)"
   ]
  },
  {
   "cell_type": "code",
   "execution_count": 10,
   "metadata": {
    "button": false,
    "new_sheet": false,
    "run_control": {
     "read_only": false
    }
   },
   "outputs": [],
   "source": [
    "PES_func = PES(Key, Pos, molecule)"
   ]
  },
  {
   "cell_type": "code",
   "execution_count": 11,
   "metadata": {
    "button": false,
    "new_sheet": false,
    "run_control": {
     "read_only": false
    }
   },
   "outputs": [
    {
     "data": {
      "application/vnd.jupyter.widget-view+json": {
       "model_id": "9a79f72346a94305be14db44425f43cc",
       "version_major": 2,
       "version_minor": 0
      },
      "text/plain": [
       "HBox(children=(FloatProgress(value=0.0, max=81.0), HTML(value='')))"
      ]
     },
     "metadata": {},
     "output_type": "display_data"
    },
    {
     "name": "stdout",
     "output_type": "stream",
     "text": [
      "\n"
     ]
    }
   ],
   "source": [
    "Hess = Hess_CART(Key, Pos, PES, molecule)"
   ]
  },
  {
   "cell_type": "code",
   "execution_count": 12,
   "metadata": {
    "button": false,
    "new_sheet": false,
    "run_control": {
     "read_only": false
    }
   },
   "outputs": [],
   "source": [
    "Hess_MWC_fin = Hess_MWC(Hess, Key, mass)"
   ]
  },
  {
   "cell_type": "code",
   "execution_count": 13,
   "metadata": {
    "button": false,
    "new_sheet": false,
    "run_control": {
     "read_only": false
    },
    "scrolled": false
   },
   "outputs": [],
   "source": [
    "eigvals, eigvecs, Hess_diag_au, Hess_diag_wn, fundamentals_au, fundamentals_wn = eigval_eigvec(Hess_MWC_fin)"
   ]
  },
  {
   "cell_type": "code",
   "execution_count": 14,
   "metadata": {
    "button": false,
    "new_sheet": false,
    "run_control": {
     "read_only": false
    }
   },
   "outputs": [],
   "source": [
    "eigvecs_UMW = UMW(eigvecs, mass, Key)"
   ]
  },
  {
   "cell_type": "code",
   "execution_count": 15,
   "metadata": {
    "button": false,
    "new_sheet": false,
    "run_control": {
     "read_only": false
    }
   },
   "outputs": [],
   "source": [
    "displace_vec, displace_val= displace_vec_and_val(eigvals, eigvecs_UMW)"
   ]
  },
  {
   "cell_type": "code",
   "execution_count": 16,
   "metadata": {
    "button": false,
    "new_sheet": false,
    "run_control": {
     "read_only": false
    },
    "scrolled": true
   },
   "outputs": [
    {
     "data": {
      "application/vnd.jupyter.widget-view+json": {
       "model_id": "efab06c9f9544092bd8d7ce8ffd2842a",
       "version_major": 2,
       "version_minor": 0
      },
      "text/plain": [
       "HBox(children=(FloatProgress(value=0.0, max=9.0), HTML(value='')))"
      ]
     },
     "metadata": {},
     "output_type": "display_data"
    },
    {
     "name": "stdout",
     "output_type": "stream",
     "text": [
      "\n"
     ]
    }
   ],
   "source": [
    "cubic = cubic_CART(Key, Pos, displace_vec, displace_val, PES, molecule)"
   ]
  },
  {
   "cell_type": "code",
   "execution_count": 17,
   "metadata": {
    "button": false,
    "new_sheet": false,
    "run_control": {
     "read_only": false
    },
    "scrolled": true
   },
   "outputs": [
    {
     "data": {
      "application/vnd.jupyter.widget-view+json": {
       "model_id": "ea8482bfbee148c088832418959dd1f3",
       "version_major": 2,
       "version_minor": 0
      },
      "text/plain": [
       "HBox(children=(FloatProgress(value=0.0, max=9.0), HTML(value='')))"
      ]
     },
     "metadata": {},
     "output_type": "display_data"
    },
    {
     "name": "stdout",
     "output_type": "stream",
     "text": [
      "\n"
     ]
    }
   ],
   "source": [
    "quartic = quartic_CART(Key, Pos, displace_vec, displace_val, PES, molecule)"
   ]
  },
  {
   "cell_type": "code",
   "execution_count": 18,
   "metadata": {
    "button": false,
    "new_sheet": false,
    "run_control": {
     "read_only": false
    },
    "scrolled": true
   },
   "outputs": [
    {
     "data": {
      "application/vnd.jupyter.widget-view+json": {
       "model_id": "4cd285db0dae48499da7fad28aa94c7b",
       "version_major": 2,
       "version_minor": 0
      },
      "text/plain": [
       "HBox(children=(FloatProgress(value=0.0, max=9.0), HTML(value='')))"
      ]
     },
     "metadata": {},
     "output_type": "display_data"
    },
    {
     "name": "stdout",
     "output_type": "stream",
     "text": [
      "\n"
     ]
    }
   ],
   "source": [
    "sigma = sigma_ij(displace_val, cubic)"
   ]
  },
  {
   "cell_type": "code",
   "execution_count": 19,
   "metadata": {
    "button": false,
    "new_sheet": false,
    "run_control": {
     "read_only": false
    },
    "scrolled": true
   },
   "outputs": [],
   "source": [
    "deltaETOSH = deltaETOSH_ij(displace_val, cubic, quartic, sigma)"
   ]
  },
  {
   "cell_type": "code",
   "execution_count": 20,
   "metadata": {
    "button": false,
    "new_sheet": false,
    "run_control": {
     "read_only": false
    },
    "scrolled": true
   },
   "outputs": [
    {
     "name": "stdout",
     "output_type": "stream",
     "text": [
      "R_com [-1.18137904e-07  4.44465008e-01 -1.51608474e-19]\n",
      "r_COMalpha [[-1.08638005e+00  2.20653012e-01 -2.90311300e-19]\n",
      " [-9.56886071e-03 -4.47188334e-01  1.39016765e-19]\n",
      " [ 1.09594891e+00  2.26535322e-01  1.51294535e-19]]\n",
      "R_com [7.39191325e-17 4.44466100e-01 4.45373042e-30]\n",
      "r_COMalpha [[-1.08328032e+00  2.22233050e-01  1.03565552e-29]\n",
      " [ 4.06981940e-13 -4.44466100e-01 -5.92425180e-30]\n",
      " [ 1.08328032e+00  2.22233050e-01 -4.43230339e-30]]\n",
      "R_com [-7.39455704e-08  4.44464957e-01 -1.47471856e-19]\n",
      "r_COMalpha [[-1.08670944e+00  2.21201287e-01 -2.79669752e-19]\n",
      " [-5.98939745e-03 -4.46084463e-01  1.32447237e-19]\n",
      " [ 1.09269884e+00  2.24883177e-01  1.47222515e-19]]\n"
     ]
    }
   ],
   "source": [
    "allrot = all_rot_const(displace_vec, sigma, coord, mass, bohr_to_angstrom)"
   ]
  },
  {
   "cell_type": "code",
   "execution_count": 21,
   "metadata": {},
   "outputs": [
    {
     "name": "stdout",
     "output_type": "stream",
     "text": [
      "   harmonic_wn  anharmonic_wn     B_000   B_Freq1   B_Freq2   B_Freq3\n",
      "0  1058.081785    1039.646181  3.160645  3.122926  3.160645  3.138008\n",
      "1  1027.157945     982.315456  0.399055  0.393273  0.399055  0.394350\n",
      "2   668.080841     651.792134  0.354319  0.349287  0.354319  0.350325\n"
     ]
    }
   ],
   "source": [
    "key_data = data_file_maker_triatomic(displace_val, deltaETOSH, B, allrot, \"O3_888_13DaLo_specconst\")"
   ]
  },
  {
   "cell_type": "code",
   "execution_count": 22,
   "metadata": {
    "button": false,
    "new_sheet": false,
    "run_control": {
     "read_only": false
    }
   },
   "outputs": [],
   "source": [
    "J_max_arr, A_rot, B_rot, C_rot = J_max_func(B, T)"
   ]
  },
  {
   "cell_type": "code",
   "execution_count": 23,
   "metadata": {},
   "outputs": [
    {
     "name": "stderr",
     "output_type": "stream",
     "text": [
      "100%|██████████| 77/77 [00:12<00:00,  5.97it/s] \n",
      "100%|██████████| 77/77 [00:18<00:00,  4.28it/s] \n",
      "100%|██████████| 77/77 [00:16<00:00,  4.72it/s]\n"
     ]
    }
   ],
   "source": [
    "P_nu1, P_rot_nu1, P_index_nu1 = asytop_v_P(1, J_max_arr, \"B\", deltaETOSH[0] , A_rot, allrot[0][0], B_rot, allrot[0][1], C_rot, allrot[0][2])\n",
    "\n",
    "Q_nu1, Q_rot_nu1, Q_index_nu1 = asytop_v_Q(1, J_max_arr, \"B\", deltaETOSH[0] , A_rot, allrot[0][0], B_rot, allrot[0][1], C_rot, allrot[0][2])\n",
    "\n",
    "R_nu1, R_rot_nu1, R_index_nu1 = asytop_v_R(1, J_max_arr, \"B\", deltaETOSH[0] , A_rot, allrot[0][0], B_rot, allrot[0][1], C_rot, allrot[0][2])\n",
    "##"
   ]
  },
  {
   "cell_type": "code",
   "execution_count": 24,
   "metadata": {},
   "outputs": [
    {
     "name": "stderr",
     "output_type": "stream",
     "text": [
      "100%|██████████| 77/77 [00:14<00:00,  5.28it/s] \n",
      "100%|██████████| 77/77 [00:12<00:00,  6.25it/s] \n",
      "100%|██████████| 77/77 [00:13<00:00,  5.65it/s] \n"
     ]
    }
   ],
   "source": [
    "P_nu2, P_rot_nu2, P_index_nu2 = asytop_v_P(1, J_max_arr, \"B\", deltaETOSH[2] , A_rot, allrot[2][0], B_rot, allrot[2][1], C_rot, allrot[2][2])\n",
    "\n",
    "Q_nu2, Q_rot_nu2, Q_index_nu2 = asytop_v_Q(1, J_max_arr, \"B\", deltaETOSH[2] , A_rot, allrot[2][0], B_rot, allrot[2][1], C_rot, allrot[2][2])\n",
    "\n",
    "R_nu2, R_rot_nu2, R_index_nu2 = asytop_v_R(1, J_max_arr, \"B\", deltaETOSH[2] , A_rot, allrot[2][0], B_rot, allrot[2][1], C_rot, allrot[2][2])\n",
    "##"
   ]
  },
  {
   "cell_type": "code",
   "execution_count": 25,
   "metadata": {},
   "outputs": [
    {
     "name": "stderr",
     "output_type": "stream",
     "text": [
      "100%|██████████| 77/77 [00:12<00:00,  6.20it/s] \n",
      "100%|██████████| 77/77 [00:11<00:00,  6.84it/s] \n",
      "100%|██████████| 77/77 [00:11<00:00,  6.52it/s] \n"
     ]
    }
   ],
   "source": [
    "P_nu3, P_rot_nu3, P_index_nu3 = asytop_v_P(2, J_max_arr, \"A\", deltaETOSH[1] , A_rot, allrot[1][0], B_rot, allrot[1][1], C_rot, allrot[1][2])\n",
    "\n",
    "Q_nu3, Q_rot_nu3, Q_index_nu3 = asytop_v_Q(2, J_max_arr, \"A\", deltaETOSH[1] , A_rot, allrot[1][0], B_rot, allrot[1][1], C_rot, allrot[1][2])\n",
    "\n",
    "R_nu3, R_rot_nu3, R_index_nu3 = asytop_v_R(2, J_max_arr, \"A\", deltaETOSH[1] , A_rot, allrot[1][0], B_rot, allrot[1][1], C_rot, allrot[1][2])\n",
    "##"
   ]
  },
  {
   "cell_type": "code",
   "execution_count": 26,
   "metadata": {
    "button": false,
    "new_sheet": false,
    "run_control": {
     "read_only": false
    }
   },
   "outputs": [],
   "source": [
    "nu1_I = Norm_I(P_rot_nu1, P_index_nu1, Q_rot_nu1, Q_index_nu1, R_rot_nu1, R_index_nu1, T, 1, 0.039)\n",
    "##"
   ]
  },
  {
   "cell_type": "code",
   "execution_count": 27,
   "metadata": {
    "button": false,
    "new_sheet": false,
    "run_control": {
     "read_only": false
    }
   },
   "outputs": [],
   "source": [
    "nu2_I = Norm_I(P_rot_nu2, P_index_nu2, Q_rot_nu2, Q_index_nu2, R_rot_nu2, R_index_nu2, T, 1, 0.047)\n",
    "##"
   ]
  },
  {
   "cell_type": "code",
   "execution_count": 28,
   "metadata": {
    "button": false,
    "new_sheet": false,
    "run_control": {
     "read_only": false
    }
   },
   "outputs": [],
   "source": [
    "nu3_I = Norm_I(P_rot_nu3, P_index_nu3, Q_rot_nu3, Q_index_nu3, R_rot_nu3, R_index_nu3, T, 1, 1)\n",
    "##"
   ]
  },
  {
   "cell_type": "code",
   "execution_count": 29,
   "metadata": {
    "button": false,
    "new_sheet": false,
    "run_control": {
     "read_only": false
    }
   },
   "outputs": [],
   "source": [
    "Final_I = Fin_I(nu1_I[0], nu1_I[1],nu1_I[2], nu2_I[0], nu2_I[1], nu2_I[2], nu3_I[0], nu3_I[1], nu3_I[2])\n",
    "##"
   ]
  },
  {
   "cell_type": "markdown",
   "metadata": {},
   "source": [
    "P_nu1_13DaLo_888 = P_nu1\n",
    "P_nu1_13DaLo_888_int = Final_I[0]\n",
    "%store P_nu1_13DaLo_888\n",
    "%store P_nu1_13DaLo_888_int\n",
    "\n",
    "Q_nu1_13DaLo_888 = Q_nu1\n",
    "Q_nu1_13DaLo_888_int = Final_I[1]\n",
    "%store Q_nu1_13DaLo_888\n",
    "%store Q_nu1_13DaLo_888_int\n",
    "\n",
    "R_nu1_13DaLo_888 = R_nu1\n",
    "R_nu1_13DaLo_888_int = Final_I[2]\n",
    "%store R_nu1_13DaLo_888\n",
    "%store R_nu1_13DaLo_888_int\n",
    "\n",
    "P_nu2_13DaLo_888 = P_nu2\n",
    "P_nu2_13DaLo_888_int = Final_I[3]\n",
    "%store P_nu2_13DaLo_888\n",
    "%store P_nu2_13DaLo_888_int\n",
    "\n",
    "Q_nu2_13DaLo_888 = Q_nu2\n",
    "Q_nu2_13DaLo_888_int = Final_I[4]\n",
    "%store Q_nu2_13DaLo_888\n",
    "%store Q_nu2_13DaLo_888_int\n",
    "\n",
    "R_nu2_13DaLo_888 = R_nu2\n",
    "R_nu2_13DaLo_888_int = Final_I[5]\n",
    "%store R_nu2_13DaLo_888\n",
    "%store R_nu2_13DaLo_888_int\n",
    "\n",
    "P_nu3_13DaLo_888 = P_nu3\n",
    "P_nu3_13DaLo_888_int = Final_I[6]\n",
    "%store P_nu3_13DaLo_888\n",
    "%store P_nu3_13DaLo_888_int\n",
    "\n",
    "Q_nu3_13DaLo_888 = Q_nu3\n",
    "Q_nu3_13DaLo_888_int = Final_I[7]\n",
    "%store Q_nu3_13DaLo_888\n",
    "%store Q_nu3_13DaLo_888_int\n",
    "\n",
    "R_nu3_13DaLo_888 = R_nu3\n",
    "R_nu3_13DaLo_888_int = Final_I[8]\n",
    "%store R_nu3_13DaLo_888\n",
    "%store R_nu3_13DaLo_888_int\n",
    "\n",
    "nu1_origin_888_13DaLo = deltaETOSH[0]\n",
    "%store nu1_origin_888_13DaLo\n",
    "nu2_origin_888_13DaLo = deltaETOSH[1]\n",
    "%store nu2_origin_888_13DaLo\n",
    "nu3_origin_888_13DaLo = deltaETOSH[2]\n",
    "%store nu3_origin_888_13DaLo\n",
    "\n",
    "HITRAN_freq_888_13DaLo = prime_freq\n",
    "%store HITRAN_freq_888_13DaLo\n",
    "\n",
    "HITRAN_int_888_13DaLo = prime_intensity\n",
    "%store HITRAN_int_888_13DaLo"
   ]
  },
  {
   "cell_type": "code",
   "execution_count": null,
   "metadata": {},
   "outputs": [],
   "source": [
    "#20GaTe\n",
    "exp_B = (3.158, 0.396, 0.351)\n",
    "exp_J_max_arr, exp_A_rot, exp_B_rot, exp_C_rot = J_max_func(exp_B, T)\n",
    "\n",
    "mode_100 = 1041.6\n",
    "A_mode_100 = 3.161\n",
    "B_mode_100 = 0.394 \n",
    "C_mode_100 = 0.349\n",
    "\n",
    "exp_P_nu1, exp_P_rot_nu1, exp_P_index_nu1 = asytop_v_P(1, exp_J_max_arr, \"B\", mode_100 , exp_A_rot, A_mode_100, exp_B_rot, B_mode_100, exp_C_rot, C_mode_100)\n",
    "exp_Q_nu1, exp_Q_rot_nu1, exp_Q_index_nu1 = asytop_v_Q(1, exp_J_max_arr, \"B\", mode_100 , exp_A_rot, A_mode_100, exp_B_rot, B_mode_100, exp_C_rot, C_mode_100)\n",
    "exp_R_nu1, exp_R_rot_nu1, exp_R_index_nu1 = asytop_v_R(1, exp_J_max_arr, \"B\", mode_100 , exp_A_rot, A_mode_100, exp_B_rot, B_mode_100, exp_C_rot, C_mode_100)\n",
    "\n",
    "mode_010 = 661.5\n",
    "A_mode_010 = 3.203\n",
    "B_mode_010 = 0.395 \n",
    "C_mode_010 = 0.349\n",
    "\n",
    "exp_P_nu2, exp_P_rot_nu2, exp_P_index_nu2 = asytop_v_P(1, exp_J_max_arr, \"B\", mode_010 , exp_A_rot, A_mode_010, exp_B_rot, B_mode_010, exp_C_rot, C_mode_010)\n",
    "exp_Q_nu2, exp_Q_rot_nu2, exp_Q_index_nu2 = asytop_v_Q(1, exp_J_max_arr, \"B\", mode_010 , exp_A_rot, A_mode_010, exp_B_rot, B_mode_010, exp_C_rot, C_mode_010)\n",
    "exp_R_nu2, exp_R_rot_nu2, exp_R_index_nu2 = asytop_v_R(1, exp_J_max_arr, \"B\", mode_010 , exp_A_rot, A_mode_010, exp_B_rot, B_mode_010, exp_C_rot, C_mode_010)\n",
    "\n",
    "mode_001 = 984.8\n",
    "A_mode_001 = 3.114 \n",
    "B_mode_001 = 0.393 \n",
    "C_mode_001 = 0.348\n",
    "\n",
    "exp_P_nu3, exp_P_rot_nu3, exp_P_index_nu3 = asytop_v_P(2, exp_J_max_arr, \"A\", mode_001 , exp_A_rot, A_mode_001, exp_B_rot, B_mode_001, exp_C_rot, C_mode_001)\n",
    "exp_Q_nu3, exp_Q_rot_nu3, exp_Q_index_nu3 = asytop_v_Q(2, exp_J_max_arr, \"A\", mode_001 , exp_A_rot, A_mode_001, exp_B_rot, B_mode_001, exp_C_rot, C_mode_001)\n",
    "exp_R_nu3, exp_R_rot_nu3, exp_R_index_nu3 = asytop_v_R(2, exp_J_max_arr, \"A\", mode_001 , exp_A_rot, A_mode_001, exp_B_rot, B_mode_001, exp_C_rot, C_mode_001)\n",
    "\n",
    "exp_nu1_I = Norm_I(exp_P_rot_nu1, exp_P_index_nu1, exp_Q_rot_nu1, exp_Q_index_nu1, exp_R_rot_nu1, exp_R_index_nu1, T, 1, 0.039)\n",
    "##\n",
    "exp_nu2_I = Norm_I(exp_P_rot_nu2, exp_P_index_nu2, exp_Q_rot_nu2, exp_Q_index_nu2, exp_R_rot_nu2, exp_R_index_nu2, T, 1, 0.047)\n",
    "##\n",
    "exp_nu3_I = Norm_I(exp_P_rot_nu3, exp_P_index_nu3, exp_Q_rot_nu3, exp_Q_index_nu3, exp_R_rot_nu3, exp_R_index_nu3, T, 1, 1)\n",
    "##\n",
    "exp_Final_I = Fin_I(exp_nu1_I[0], exp_nu1_I[1], exp_nu1_I[2], exp_nu2_I[0], exp_nu2_I[1], exp_nu2_I[2], exp_nu3_I[0], exp_nu3_I[1], exp_nu3_I[2])\n",
    "##"
   ]
  },
  {
   "cell_type": "code",
   "execution_count": null,
   "metadata": {},
   "outputs": [],
   "source": [
    "harm_B = (B[0], B[1], B[2])\n",
    "harm_J_max_arr, harm_A_rot, harm_B_rot, harm_C_rot = J_max_func(harm_B, T)\n",
    "\n",
    "harm_P_nu1, harm_P_rot_nu1, harm_P_index_nu1 = asytop_v_P(1, harm_J_max_arr, \"B\", fundamentals_wn[0] , harm_A_rot, harm_A_rot, harm_B_rot, harm_B_rot, harm_C_rot, harm_C_rot)\n",
    "harm_Q_nu1, harm_Q_rot_nu1, harm_Q_index_nu1 = asytop_v_Q(1, harm_J_max_arr, \"B\", fundamentals_wn[0] , harm_A_rot, harm_A_rot, harm_B_rot, harm_B_rot, harm_C_rot, harm_C_rot)\n",
    "harm_R_nu1, harm_R_rot_nu1, harm_R_index_nu1 = asytop_v_R(1, harm_J_max_arr, \"B\", fundamentals_wn[0] , harm_A_rot, harm_A_rot, harm_B_rot, harm_B_rot, harm_C_rot, harm_C_rot)\n",
    "\n",
    "harm_P_nu2, harm_P_rot_nu2, harm_P_index_nu2 = asytop_v_P(1, harm_J_max_arr, \"B\", fundamentals_wn[2] , harm_A_rot, harm_A_rot, harm_B_rot, harm_B_rot, harm_C_rot, harm_C_rot)\n",
    "harm_Q_nu2, harm_Q_rot_nu2, harm_Q_index_nu2 = asytop_v_Q(1, harm_J_max_arr, \"B\", fundamentals_wn[2] , harm_A_rot, harm_A_rot, harm_B_rot, harm_B_rot, harm_C_rot, harm_C_rot)\n",
    "harm_R_nu2, harm_R_rot_nu2, harm_R_index_nu2 = asytop_v_R(1, harm_J_max_arr, \"B\", fundamentals_wn[2] , harm_A_rot, harm_A_rot, harm_B_rot, harm_B_rot, harm_C_rot, harm_C_rot)\n",
    "\n",
    "harm_P_nu3, harm_P_rot_nu3, harm_P_index_nu3 = asytop_v_P(2, harm_J_max_arr, \"A\", fundamentals_wn[1] , harm_A_rot, harm_A_rot, harm_B_rot, harm_B_rot, harm_C_rot, harm_C_rot)\n",
    "harm_Q_nu3, harm_Q_rot_nu3, harm_Q_index_nu3 = asytop_v_Q(2, harm_J_max_arr, \"A\", fundamentals_wn[1] , harm_A_rot, harm_A_rot, harm_B_rot, harm_B_rot, harm_C_rot, harm_C_rot)\n",
    "harm_R_nu3, harm_R_rot_nu3, harm_R_index_nu3 = asytop_v_R(2, harm_J_max_arr, \"A\", fundamentals_wn[1] , harm_A_rot, harm_A_rot, harm_B_rot, harm_B_rot, harm_C_rot, harm_C_rot)\n",
    "\n",
    "\n",
    "harm_nu1_I = Norm_I(harm_P_rot_nu1, harm_P_index_nu1, harm_Q_rot_nu1, harm_Q_index_nu1, harm_R_rot_nu1, harm_R_index_nu1, T, 1, 0.039)\n",
    "##\n",
    "harm_nu2_I = Norm_I(harm_P_rot_nu2, harm_P_index_nu2, harm_Q_rot_nu2, harm_Q_index_nu2, harm_R_rot_nu2, harm_R_index_nu2, T, 1, 0.047)\n",
    "##\n",
    "harm_nu3_I = Norm_I(harm_P_rot_nu3, harm_P_index_nu3, harm_Q_rot_nu3, harm_Q_index_nu3, harm_R_rot_nu3, harm_R_index_nu3, T, 1, 1)\n",
    "##\n",
    "harm_Final_I = Fin_I(harm_nu1_I[0], harm_nu1_I[1], harm_nu1_I[2], harm_nu2_I[0], harm_nu2_I[1], harm_nu2_I[2], harm_nu3_I[0], harm_nu3_I[1], harm_nu3_I[2])\n",
    "##"
   ]
  },
  {
   "cell_type": "code",
   "execution_count": null,
   "metadata": {},
   "outputs": [],
   "source": [
    "plt.figure(figsize=(16,8))\n",
    "plt.vlines(prime_freq,0, -prime_intensity, color=\"k\", label=\"HITRAN 2020\", linewidth=.5)\n",
    "\n",
    "plt.vlines(P_nu1, 0, Final_I[0], \"red\", label=\"Epimetheus (13DaLo)\", linewidth=.5)\n",
    "plt.vlines(Q_nu1, 0, Final_I[1], \"red\", linewidth=.5)\n",
    "plt.vlines(R_nu1, 0, Final_I[2], \"red\", linewidth=.5)\n",
    "\n",
    "plt.vlines(P_nu2, 0, Final_I[3], \"red\", linewidth=.5)\n",
    "plt.vlines(Q_nu2, 0, Final_I[4], \"red\", linewidth=.5)\n",
    "plt.vlines(R_nu2, 0, Final_I[5], \"red\", linewidth=.5)\n",
    "\n",
    "plt.vlines(P_nu3, 0, Final_I[6], \"red\", linewidth=.5)\n",
    "plt.vlines(Q_nu3, 0, Final_I[7], \"red\", linewidth=.5)\n",
    "plt.vlines(R_nu3, 0, Final_I[8], \"red\", linewidth=.5)\n",
    "\n",
    "plt.xlim(550, 1250)\n",
    "plt.ylim(ymin=-max(prime_intensity))\n",
    "plt.xlabel(r\"Wavenumber (cm$^{-1}$)\", fontsize=16)\n",
    "plt.ylabel(r\"Normalized Intensity, $\\frac{N_J}{N}$\", fontsize=16)\n",
    "\n",
    "legend = plt.legend(loc = 'lower left', fontsize=16)\n",
    "for handl in legend.legendHandles:\n",
    "    handl.set_linewidth(3)\n",
    "\n",
    "plt.savefig(f\"EPI_O3_888_13DaLo_HITRAN2020_{T}K.pdf\")\n",
    "\n",
    "plt.show()"
   ]
  },
  {
   "cell_type": "code",
   "execution_count": null,
   "metadata": {
    "scrolled": false
   },
   "outputs": [],
   "source": [
    "plt.figure(figsize=(16,8))\n",
    "plt.vlines(prime_freq,0, -prime_intensity, color=\"k\", label=\"HITRAN 2020\", linewidth=.5)\n",
    "\n",
    "plt.vlines(P_nu1, 0, Final_I[0], \"red\", label=\"Epimetheus (13DaLo)\", linewidth=.5)\n",
    "plt.vlines(Q_nu1, 0, Final_I[1], \"red\", linewidth=.5)\n",
    "plt.vlines(R_nu1, 0, Final_I[2], \"red\", linewidth=.5)\n",
    "\n",
    "plt.vlines(P_nu2, 0, Final_I[3], \"red\", linewidth=.5)\n",
    "plt.vlines(Q_nu2, 0, Final_I[4], \"red\", linewidth=.5)\n",
    "plt.vlines(R_nu2, 0, Final_I[5], \"red\", linewidth=.5)\n",
    "\n",
    "plt.vlines(P_nu3, 0, Final_I[6], \"red\", linewidth=.5)\n",
    "plt.vlines(Q_nu3, 0, Final_I[7], \"red\", linewidth=.5)\n",
    "plt.vlines(R_nu3, 0, Final_I[8], \"red\", linewidth=.5)\n",
    "\n",
    "plt.vlines(exp_P_nu1, 0, exp_Final_I[0], \"blue\",linestyle='dashed', label=\"98FlBa\", linewidth=.5)\n",
    "plt.vlines(exp_Q_nu1, 0, exp_Final_I[1], \"blue\",linestyle='dashed', linewidth=.5)\n",
    "plt.vlines(exp_R_nu1, 0, exp_Final_I[2], \"blue\",linestyle='dashed', linewidth=.5)\n",
    "\n",
    "plt.vlines(exp_P_nu2, 0, exp_Final_I[3], \"blue\",linestyle='dashed', linewidth=.5)\n",
    "plt.vlines(exp_Q_nu2, 0, exp_Final_I[4], \"blue\",linestyle='dashed', linewidth=.5)\n",
    "plt.vlines(exp_R_nu2, 0, exp_Final_I[5], \"blue\",linestyle='dashed', linewidth=.5)\n",
    "\n",
    "plt.vlines(exp_P_nu3, 0, exp_Final_I[6], \"blue\",linestyle='dashed', linewidth=.5)\n",
    "plt.vlines(exp_Q_nu3, 0, exp_Final_I[7], \"blue\",linestyle='dashed', linewidth=.5)\n",
    "plt.vlines(exp_R_nu3, 0, exp_Final_I[8], \"blue\",linestyle='dashed', linewidth=.5)\n",
    "\n",
    "plt.xlim(550, 1250)\n",
    "plt.ylim(ymin=-max(prime_intensity))\n",
    "plt.xlabel(r\"Wavenumber (cm$^{-1}$)\", fontsize=16)\n",
    "plt.ylabel(r\"Normalized Intensity, $\\frac{N_J}{N}$\", fontsize=16)\n",
    "\n",
    "legend = plt.legend(loc = 'lower left', fontsize=16)\n",
    "for handl in legend.legendHandles:\n",
    "    handl.set_linewidth(3)\n",
    "\n",
    "plt.savefig(f\"EPI_O3_888_13DaLo_HITRAN2020_exp_{T}K.pdf\")\n",
    "\n",
    "plt.show()"
   ]
  },
  {
   "cell_type": "code",
   "execution_count": null,
   "metadata": {},
   "outputs": [],
   "source": []
  },
  {
   "cell_type": "code",
   "execution_count": 30,
   "metadata": {},
   "outputs": [
    {
     "data": {
      "text/plain": [
       "<matplotlib.collections.LineCollection at 0x7fed6704d850>"
      ]
     },
     "execution_count": 30,
     "metadata": {},
     "output_type": "execute_result"
    },
    {
     "data": {
      "image/png": "[encoded data removed]",
      "text/plain": [
       "<Figure size 1152x576 with 1 Axes>"
      ]
     },
     "metadata": {
      "needs_background": "light"
     },
     "output_type": "display_data"
    }
   ],
   "source": [
    "Pos = np.concatenate((P_nu1, Q_nu1, R_nu1, P_nu2, Q_nu2, R_nu2, P_nu3, Q_nu3, R_nu3))\n",
    "Pos = np.reshape(Pos, (len(Pos),1))\n",
    "Int = np.concatenate((Final_I[0], Final_I[1], Final_I[2], Final_I[3], Final_I[4], Final_I[5], Final_I[6], Final_I[7], Final_I[8]))\n",
    "Int = np.reshape(Int, (len(Int),1))\n",
    "Pos_and_Int = np.concatenate((Pos,Int), axis=1)\n",
    "np.savetxt(\"O3_888_13DaLo_outputdata_WN_and_INT.txt\", Pos_and_Int, delimiter=\",\")\n",
    "#Quick double check of the data saved\n",
    "plt.figure(figsize=(16,8))\n",
    "plt.vlines(Pos_and_Int[:,0],0,Pos_and_Int[:,1])"
   ]
  },
  {
   "cell_type": "code",
   "execution_count": null,
   "metadata": {},
   "outputs": [],
   "source": []
  }
 ],
 "metadata": {
  "kernelspec": {
   "display_name": "Python 3",
   "language": "python",
   "name": "python3"
  },
  "language_info": {
   "codemirror_mode": {
    "name": "ipython",
    "version": 3
   },
   "file_extension": ".py",
   "mimetype": "text/x-python",
   "name": "python",
   "nbconvert_exporter": "python",
   "pygments_lexer": "ipython3",
   "version": "3.8.3"
  }
 },
 "nbformat": 4,
 "nbformat_minor": 4
}
