{
 "cells": [
  {
   "cell_type": "code",
   "execution_count": 31,
   "metadata": {
    "button": false,
    "new_sheet": false,
    "run_control": {
     "read_only": false
    }
   },
   "outputs": [],
   "source": [
    "#Essential Constants\n",
    "from scipy.constants import h, c, hbar, u, k\n",
    "\n",
    "#Imports from other script/s\n",
    "from ipynb.fs.full.Conversions_Epimetheus import * #Conversion Doc\n",
    "from ipynb.fs.full.Atomic_Mass_Key import element #Mass Key File\n",
    "from ipynb.fs.full.EpiPan_Functions import * #All Functions\n",
    "\n",
    "#General Imports\n",
    "import numpy as np\n",
    "import matplotlib.pyplot as plt\n",
    "import scipy.linalg as la\n",
    "import itertools\n",
    "import pandas as pd"
   ]
  },
  {
   "cell_type": "code",
   "execution_count": 32,
   "metadata": {
    "button": false,
    "new_sheet": false,
    "run_control": {
     "read_only": false
    }
   },
   "outputs": [],
   "source": [
    "#Import Desired PES\n",
    "from ipynb.fs.full.O3_PES_fortran_JT import PES"
   ]
  },
  {
   "cell_type": "code",
   "execution_count": 33,
   "metadata": {
    "button": false,
    "new_sheet": false,
    "run_control": {
     "read_only": false
    }
   },
   "outputs": [],
   "source": [
    "#Imported \"PRIME\" Data // HITRAN2020\n",
    "prime_link = 1\n",
    "if type(prime_link) == str:\n",
    "    prime_data = pd.read_csv(prime_link, header=None, skiprows=None, sep=\"\\s+\")     \n",
    "    prime_data.to_csv(\"O3_676_SPEC_HITRAN2020.csv\")\n",
    "    \n",
    "    prime_freq = prime_data.loc[:,0]\n",
    "    prime_freq = np.array(prime_freq)\n",
    "    \n",
    "    prime_intensity = prime_data.loc[:,1]\n",
    "    prime_intensity = np.array(prime_intensity)\n",
    "    prime_intensity = np.divide(prime_intensity, sum(prime_intensity))\n",
    "    \n",
    "elif prime_link == 1: \n",
    "    prime_data = pd.read_csv(\"O3_676_SPEC_HITRAN2020.csv\", sep=\",\", header=None, skiprows=1)\n",
    "\n",
    "    prime_freq = prime_data.loc[:,1]\n",
    "    prime_freq = np.array(prime_freq)\n",
    "    \n",
    "    prime_intensity = prime_data.loc[:,2]\n",
    "    prime_intensity = np.array(prime_intensity)\n",
    "    prime_intensity = np.divide(prime_intensity, sum(prime_intensity))"
   ]
  },
  {
   "cell_type": "markdown",
   "metadata": {
    "button": false,
    "new_sheet": false,
    "run_control": {
     "read_only": false
    }
   },
   "source": [
    "### Manual Inputs"
   ]
  },
  {
   "cell_type": "code",
   "execution_count": 34,
   "metadata": {
    "button": false,
    "new_sheet": false,
    "run_control": {
     "read_only": false
    }
   },
   "outputs": [],
   "source": [
    "#Temperature\n",
    "T = 300"
   ]
  },
  {
   "cell_type": "code",
   "execution_count": 35,
   "metadata": {},
   "outputs": [],
   "source": [
    "molecule = [\"O\", \"O-17\", \"O\"]"
   ]
  },
  {
   "cell_type": "code",
   "execution_count": 36,
   "metadata": {
    "button": false,
    "new_sheet": false,
    "run_control": {
     "read_only": false
    }
   },
   "outputs": [],
   "source": [
    "#Positions/Bond Lengths/Angles\n",
    "r1 = 1.28\n",
    "r2 = r1\n",
    "alpha = 116.78 \n",
    "#Fortran values\n",
    "r1 =1.27200\n",
    "r2 = r1\n",
    "alpha =116.7800\n",
    "coord = coord_triatomic(alpha, r1, r2)"
   ]
  },
  {
   "cell_type": "code",
   "execution_count": 37,
   "metadata": {
    "button": false,
    "new_sheet": false,
    "run_control": {
     "read_only": false
    }
   },
   "outputs": [],
   "source": [
    "mass = ((element[molecule[0]] * u * kg_to_me), \n",
    "            (element[molecule[1]] * u * kg_to_me), \n",
    "            (element[molecule[2]] * u * kg_to_me))"
   ]
  },
  {
   "cell_type": "code",
   "execution_count": 38,
   "metadata": {
    "button": false,
    "new_sheet": false,
    "run_control": {
     "read_only": false
    }
   },
   "outputs": [
    {
     "name": "stdout",
     "output_type": "stream",
     "text": [
      "R_com [0.         0.43535506 0.        ]\n",
      "r_COMalpha [[-1.08328032  0.23134409  0.        ]\n",
      " [ 0.         -0.43535506  0.        ]\n",
      " [ 1.08328032  0.23134409  0.        ]]\n"
     ]
    }
   ],
   "source": [
    "B, I, COMcoord = rot_inertia_rcom(coord, mass)"
   ]
  },
  {
   "cell_type": "markdown",
   "metadata": {
    "button": false,
    "new_sheet": false,
    "run_control": {
     "read_only": false
    }
   },
   "source": [
    "### Calculations "
   ]
  },
  {
   "cell_type": "code",
   "execution_count": 39,
   "metadata": {
    "button": false,
    "new_sheet": false,
    "run_control": {
     "read_only": false
    }
   },
   "outputs": [],
   "source": [
    "Key, Pos =  Key_and_Pos(coord)"
   ]
  },
  {
   "cell_type": "code",
   "execution_count": 40,
   "metadata": {
    "button": false,
    "new_sheet": false,
    "run_control": {
     "read_only": false
    }
   },
   "outputs": [],
   "source": [
    "PES_func = PES(Key, Pos, molecule)"
   ]
  },
  {
   "cell_type": "code",
   "execution_count": 41,
   "metadata": {
    "button": false,
    "new_sheet": false,
    "run_control": {
     "read_only": false
    }
   },
   "outputs": [
    {
     "data": {
      "application/vnd.jupyter.widget-view+json": {
       "model_id": "c556508c4df840a6b79faa02075bd643",
       "version_major": 2,
       "version_minor": 0
      },
      "text/plain": [
       "HBox(children=(FloatProgress(value=0.0, max=81.0), HTML(value='')))"
      ]
     },
     "metadata": {},
     "output_type": "display_data"
    },
    {
     "name": "stdout",
     "output_type": "stream",
     "text": [
      "\n"
     ]
    }
   ],
   "source": [
    "Hess = Hess_CART(Key, Pos, PES, molecule)"
   ]
  },
  {
   "cell_type": "code",
   "execution_count": 42,
   "metadata": {
    "button": false,
    "new_sheet": false,
    "run_control": {
     "read_only": false
    }
   },
   "outputs": [],
   "source": [
    "Hess_MWC_fin = Hess_MWC(Hess, Key, mass)"
   ]
  },
  {
   "cell_type": "code",
   "execution_count": 43,
   "metadata": {
    "button": false,
    "new_sheet": false,
    "run_control": {
     "read_only": false
    },
    "scrolled": false
   },
   "outputs": [],
   "source": [
    "eigvals, eigvecs, Hess_diag_au, Hess_diag_wn, fundamentals_au, fundamentals_wn = eigval_eigvec(Hess_MWC_fin)"
   ]
  },
  {
   "cell_type": "code",
   "execution_count": 44,
   "metadata": {
    "button": false,
    "new_sheet": false,
    "run_control": {
     "read_only": false
    }
   },
   "outputs": [],
   "source": [
    "eigvecs_UMW = UMW(eigvecs, mass, Key)"
   ]
  },
  {
   "cell_type": "code",
   "execution_count": 45,
   "metadata": {
    "button": false,
    "new_sheet": false,
    "run_control": {
     "read_only": false
    }
   },
   "outputs": [],
   "source": [
    "displace_vec, displace_val= displace_vec_and_val(eigvals, eigvecs_UMW)"
   ]
  },
  {
   "cell_type": "code",
   "execution_count": 46,
   "metadata": {
    "button": false,
    "new_sheet": false,
    "run_control": {
     "read_only": false
    },
    "scrolled": true
   },
   "outputs": [
    {
     "data": {
      "application/vnd.jupyter.widget-view+json": {
       "model_id": "7eadd724881b46f1903d6c2a3433ea84",
       "version_major": 2,
       "version_minor": 0
      },
      "text/plain": [
       "HBox(children=(FloatProgress(value=0.0, max=9.0), HTML(value='')))"
      ]
     },
     "metadata": {},
     "output_type": "display_data"
    },
    {
     "name": "stdout",
     "output_type": "stream",
     "text": [
      "\n"
     ]
    }
   ],
   "source": [
    "cubic = cubic_CART(Key, Pos, displace_vec, displace_val, PES, molecule)"
   ]
  },
  {
   "cell_type": "code",
   "execution_count": 47,
   "metadata": {
    "button": false,
    "new_sheet": false,
    "run_control": {
     "read_only": false
    },
    "scrolled": true
   },
   "outputs": [
    {
     "data": {
      "application/vnd.jupyter.widget-view+json": {
       "model_id": "d23f935561cb420fa712a3dc963f50d5",
       "version_major": 2,
       "version_minor": 0
      },
      "text/plain": [
       "HBox(children=(FloatProgress(value=0.0, max=9.0), HTML(value='')))"
      ]
     },
     "metadata": {},
     "output_type": "display_data"
    },
    {
     "name": "stdout",
     "output_type": "stream",
     "text": [
      "\n"
     ]
    }
   ],
   "source": [
    "quartic = quartic_CART(Key, Pos, displace_vec, displace_val, PES, molecule)"
   ]
  },
  {
   "cell_type": "code",
   "execution_count": 48,
   "metadata": {
    "button": false,
    "new_sheet": false,
    "run_control": {
     "read_only": false
    },
    "scrolled": true
   },
   "outputs": [
    {
     "data": {
      "application/vnd.jupyter.widget-view+json": {
       "model_id": "9e2a28d19d584e77835755dbf466b3b1",
       "version_major": 2,
       "version_minor": 0
      },
      "text/plain": [
       "HBox(children=(FloatProgress(value=0.0, max=9.0), HTML(value='')))"
      ]
     },
     "metadata": {},
     "output_type": "display_data"
    },
    {
     "name": "stdout",
     "output_type": "stream",
     "text": [
      "\n"
     ]
    }
   ],
   "source": [
    "sigma = sigma_ij(displace_val, cubic)"
   ]
  },
  {
   "cell_type": "code",
   "execution_count": 49,
   "metadata": {
    "button": false,
    "new_sheet": false,
    "run_control": {
     "read_only": false
    },
    "scrolled": true
   },
   "outputs": [],
   "source": [
    "deltaETOSH = deltaETOSH_ij(displace_val, cubic, quartic, sigma)"
   ]
  },
  {
   "cell_type": "code",
   "execution_count": 50,
   "metadata": {
    "button": false,
    "new_sheet": false,
    "run_control": {
     "read_only": false
    },
    "scrolled": true
   },
   "outputs": [
    {
     "name": "stdout",
     "output_type": "stream",
     "text": [
      "R_com [6.51822294e-08 4.35355040e-01 8.83019265e-20]\n",
      "r_COMalpha [[-1.08643351e+00  2.29570350e-01  1.81999066e-19]\n",
      " [-9.77074066e-03 -4.38032993e-01 -8.81746436e-20]\n",
      " [ 1.09681769e+00  2.35963899e-01 -8.82885077e-20]]\n",
      "R_com [0.00000000e+00 4.35355059e-01 4.89626205e-33]\n",
      "r_COMalpha [[-1.08328032e+00  2.31344092e-01  1.00917525e-32]\n",
      " [-1.99915691e-16 -4.35355059e-01 -4.88926903e-33]\n",
      " [ 1.08328032e+00  2.31344092e-01 -4.89551792e-33]]\n",
      "R_com [3.72055927e-08 4.35355045e-01 1.42324020e-19]\n",
      "r_COMalpha [[-1.08654565e+00  2.30260120e-01  2.93341461e-19]\n",
      " [-5.57707524e-03 -4.36748995e-01 -1.42116888e-19]\n",
      " [ 1.09247288e+00  2.33909517e-01 -1.42301974e-19]]\n"
     ]
    }
   ],
   "source": [
    "allrot = all_rot_const(displace_vec, sigma, coord, mass, bohr_to_angstrom)"
   ]
  },
  {
   "cell_type": "code",
   "execution_count": 51,
   "metadata": {},
   "outputs": [
    {
     "name": "stdout",
     "output_type": "stream",
     "text": [
      "   harmonic_wn  anharmonic_wn     B_000   B_Freq1   B_Freq2   B_Freq3\n",
      "0  1118.944797    1106.151520  3.416617  3.375764  3.416617  3.395104\n",
      "1  1070.799095    1029.062294  0.449059  0.442173  0.449059  0.443923\n",
      "2   711.222422     698.388877  0.396893  0.390963  0.396893  0.392591\n"
     ]
    }
   ],
   "source": [
    "key_data = data_file_maker_triatomic(displace_val, deltaETOSH, B, allrot, \"O3_676_18PoZo_specconst\")"
   ]
  },
  {
   "cell_type": "code",
   "execution_count": 52,
   "metadata": {
    "button": false,
    "new_sheet": false,
    "run_control": {
     "read_only": false
    }
   },
   "outputs": [],
   "source": [
    "J_max_arr, A_rot, B_rot, C_rot = J_max_func(B, T)"
   ]
  },
  {
   "cell_type": "code",
   "execution_count": 53,
   "metadata": {},
   "outputs": [
    {
     "name": "stderr",
     "output_type": "stream",
     "text": [
      "100%|██████████| 73/73 [00:20<00:00,  3.53it/s]\n",
      "100%|██████████| 73/73 [00:19<00:00,  3.76it/s]\n",
      "100%|██████████| 73/73 [00:17<00:00,  4.15it/s]\n"
     ]
    }
   ],
   "source": [
    "P_nu1, P_rot_nu1, P_index_nu1 = asytop_v_P(0, J_max_arr, \"B\", deltaETOSH[0] , A_rot, allrot[0][0], B_rot, allrot[0][1], C_rot, allrot[0][2])\n",
    "\n",
    "Q_nu1, Q_rot_nu1, Q_index_nu1 = asytop_v_Q(0, J_max_arr, \"B\", deltaETOSH[0] , A_rot, allrot[0][0], B_rot, allrot[0][1], C_rot, allrot[0][2])\n",
    "\n",
    "R_nu1, R_rot_nu1, R_index_nu1 = asytop_v_R(0, J_max_arr, \"B\", deltaETOSH[0] , A_rot, allrot[0][0], B_rot, allrot[0][1], C_rot, allrot[0][2])\n",
    "##"
   ]
  },
  {
   "cell_type": "code",
   "execution_count": 54,
   "metadata": {},
   "outputs": [
    {
     "name": "stderr",
     "output_type": "stream",
     "text": [
      "100%|██████████| 73/73 [00:17<00:00,  4.08it/s]\n",
      "100%|██████████| 73/73 [00:16<00:00,  4.45it/s]\n",
      "100%|██████████| 73/73 [00:14<00:00,  4.95it/s] \n"
     ]
    }
   ],
   "source": [
    "P_nu2, P_rot_nu2, P_index_nu2 = asytop_v_P(0, J_max_arr, \"B\", deltaETOSH[2] , A_rot, allrot[2][0], B_rot, allrot[2][1], C_rot, allrot[2][2])\n",
    "\n",
    "Q_nu2, Q_rot_nu2, Q_index_nu2 = asytop_v_Q(0, J_max_arr, \"B\", deltaETOSH[2] , A_rot, allrot[2][0], B_rot, allrot[2][1], C_rot, allrot[2][2])\n",
    "\n",
    "R_nu2, R_rot_nu2, R_index_nu2 = asytop_v_R(0, J_max_arr, \"B\", deltaETOSH[2] , A_rot, allrot[2][0], B_rot, allrot[2][1], C_rot, allrot[2][2])\n",
    "##"
   ]
  },
  {
   "cell_type": "code",
   "execution_count": 55,
   "metadata": {},
   "outputs": [
    {
     "name": "stderr",
     "output_type": "stream",
     "text": [
      "100%|██████████| 73/73 [00:18<00:00,  3.90it/s] \n",
      "100%|██████████| 73/73 [00:18<00:00,  3.97it/s]\n",
      "100%|██████████| 73/73 [00:15<00:00,  4.70it/s] \n"
     ]
    }
   ],
   "source": [
    "P_nu3, P_rot_nu3, P_index_nu3 = asytop_v_P(0, J_max_arr, \"A\", deltaETOSH[1] , A_rot, allrot[1][0], B_rot, allrot[1][1], C_rot, allrot[1][2])\n",
    "\n",
    "Q_nu3, Q_rot_nu3, Q_index_nu3 = asytop_v_Q(0, J_max_arr, \"A\", deltaETOSH[1] , A_rot, allrot[1][0], B_rot, allrot[1][1], C_rot, allrot[1][2])\n",
    "\n",
    "R_nu3, R_rot_nu3, R_index_nu3 = asytop_v_R(0, J_max_arr, \"A\", deltaETOSH[1] , A_rot, allrot[1][0], B_rot, allrot[1][1], C_rot, allrot[1][2])\n",
    "##"
   ]
  },
  {
   "cell_type": "code",
   "execution_count": 56,
   "metadata": {
    "button": false,
    "new_sheet": false,
    "run_control": {
     "read_only": false
    }
   },
   "outputs": [],
   "source": [
    "nu1_I = Norm_I(P_rot_nu1, P_index_nu1, Q_rot_nu1, Q_index_nu1, R_rot_nu1, R_index_nu1, T, 1, 0.039)\n",
    "##"
   ]
  },
  {
   "cell_type": "code",
   "execution_count": 57,
   "metadata": {
    "button": false,
    "new_sheet": false,
    "run_control": {
     "read_only": false
    }
   },
   "outputs": [],
   "source": [
    "nu2_I = Norm_I(P_rot_nu2, P_index_nu2, Q_rot_nu2, Q_index_nu2, R_rot_nu2, R_index_nu2, T, 1, 0.047)\n",
    "##"
   ]
  },
  {
   "cell_type": "code",
   "execution_count": 58,
   "metadata": {
    "button": false,
    "new_sheet": false,
    "run_control": {
     "read_only": false
    }
   },
   "outputs": [],
   "source": [
    "nu3_I = Norm_I(P_rot_nu3, P_index_nu3, Q_rot_nu3, Q_index_nu3, R_rot_nu3, R_index_nu3, T, 1, 1)\n",
    "##"
   ]
  },
  {
   "cell_type": "code",
   "execution_count": 59,
   "metadata": {
    "button": false,
    "new_sheet": false,
    "run_control": {
     "read_only": false
    }
   },
   "outputs": [],
   "source": [
    "Final_I = Fin_I(nu1_I[0], nu1_I[1],nu1_I[2], nu2_I[0], nu2_I[1], nu2_I[2], nu3_I[0], nu3_I[1], nu3_I[2])\n",
    "##"
   ]
  },
  {
   "cell_type": "markdown",
   "metadata": {},
   "source": [
    "P_nu1_13DaLo_676 = P_nu1\n",
    "P_nu1_13DaLo_676_int = Final_I[0]\n",
    "%store P_nu1_13DaLo_676\n",
    "%store P_nu1_13DaLo_676_int\n",
    "\n",
    "Q_nu1_13DaLo_676 = Q_nu1\n",
    "Q_nu1_13DaLo_676_int = Final_I[1]\n",
    "%store Q_nu1_13DaLo_676\n",
    "%store Q_nu1_13DaLo_676_int\n",
    "\n",
    "R_nu1_13DaLo_676 = R_nu1\n",
    "R_nu1_13DaLo_676_int = Final_I[2]\n",
    "%store R_nu1_13DaLo_676\n",
    "%store R_nu1_13DaLo_676_int\n",
    "\n",
    "P_nu2_13DaLo_676 = P_nu2\n",
    "P_nu2_13DaLo_676_int = Final_I[3]\n",
    "%store P_nu2_13DaLo_676\n",
    "%store P_nu2_13DaLo_676_int\n",
    "\n",
    "Q_nu2_13DaLo_676 = Q_nu2\n",
    "Q_nu2_13DaLo_676_int = Final_I[4]\n",
    "%store Q_nu2_13DaLo_676\n",
    "%store Q_nu2_13DaLo_676_int\n",
    "\n",
    "R_nu2_13DaLo_676 = R_nu2\n",
    "R_nu2_13DaLo_676_int = Final_I[5]\n",
    "%store R_nu2_13DaLo_676\n",
    "%store R_nu2_13DaLo_676_int\n",
    "\n",
    "P_nu3_13DaLo_676 = P_nu3\n",
    "P_nu3_13DaLo_676_int = Final_I[6]\n",
    "%store P_nu3_13DaLo_676\n",
    "%store P_nu3_13DaLo_676_int\n",
    "\n",
    "Q_nu3_13DaLo_676 = Q_nu3\n",
    "Q_nu3_13DaLo_676_int = Final_I[7]\n",
    "%store Q_nu3_13DaLo_676\n",
    "%store Q_nu3_13DaLo_676_int\n",
    "\n",
    "R_nu3_13DaLo_676 = R_nu3\n",
    "R_nu3_13DaLo_676_int = Final_I[8]\n",
    "%store R_nu3_13DaLo_676\n",
    "%store R_nu3_13DaLo_676_int\n",
    "\n",
    "nu1_origin_676_13DaLo = deltaETOSH[0]\n",
    "%store nu1_origin_676_13DaLo\n",
    "nu2_origin_676_13DaLo = deltaETOSH[1]\n",
    "%store nu2_origin_676_13DaLo\n",
    "nu3_origin_676_13DaLo = deltaETOSH[2]\n",
    "%store nu3_origin_676_13DaLo\n",
    "\n",
    "HITRAN_freq_676_13DaLo = prime_freq\n",
    "%store HITRAN_freq_676_13DaLo\n",
    "\n",
    "HITRAN_int_676_13DaLo = prime_intensity\n",
    "%store HITRAN_int_676_13DaLo"
   ]
  },
  {
   "cell_type": "code",
   "execution_count": 30,
   "metadata": {},
   "outputs": [
    {
     "name": "stderr",
     "output_type": "stream",
     "text": [
      "100%|██████████| 74/74 [00:11<00:00,  6.62it/s] \n",
      "100%|██████████| 74/74 [00:11<00:00,  6.53it/s] \n",
      "100%|██████████| 74/74 [00:14<00:00,  5.24it/s] \n",
      "100%|██████████| 74/74 [00:24<00:00,  3.02it/s]\n",
      "100%|██████████| 74/74 [00:12<00:00,  6.01it/s] \n",
      "100%|██████████| 74/74 [00:13<00:00,  5.36it/s] \n",
      "100%|██████████| 74/74 [00:12<00:00,  5.85it/s] \n",
      "100%|██████████| 74/74 [00:11<00:00,  6.57it/s] \n",
      "100%|██████████| 74/74 [00:11<00:00,  6.72it/s] \n"
     ]
    }
   ],
   "source": [
    "#All taken from \"The ozone molecule: infrared and microwave spectroscopy\"\n",
    "# by J. M. Flaud and R. Bacis, 1997\n",
    "exp_B = (3.414, 0.445, 0.393)\n",
    "exp_J_max_arr, exp_A_rot, exp_B_rot, exp_C_rot = J_max_func(exp_B, T)\n",
    "\n",
    "mode_100 = 1087.8\n",
    "A_mode_100 = 3.415\n",
    "B_mode_100 = 0.443 \n",
    "C_mode_100 = 0.391\n",
    "\n",
    "exp_P_nu1, exp_P_rot_nu1, exp_P_index_nu1 = asytop_v_P(0, exp_J_max_arr, \"B\", mode_100 , exp_A_rot, A_mode_100, exp_B_rot, B_mode_100, exp_C_rot, C_mode_100)\n",
    "exp_Q_nu1, exp_Q_rot_nu1, exp_Q_index_nu1 = asytop_v_Q(0, exp_J_max_arr, \"B\", mode_100 , exp_A_rot, A_mode_100, exp_B_rot, B_mode_100, exp_C_rot, C_mode_100)\n",
    "exp_R_nu1, exp_R_rot_nu1, exp_R_index_nu1 = asytop_v_R(0, exp_J_max_arr, \"B\", mode_100 , exp_A_rot, A_mode_100, exp_B_rot, B_mode_100, exp_C_rot, C_mode_100)\n",
    "\n",
    "mode_010 = 697.1\n",
    "A_mode_010 = 3.466\n",
    "B_mode_010 = 0.444 \n",
    "C_mode_010 = 0.391\n",
    "\n",
    "exp_P_nu2, exp_P_rot_nu2, exp_P_index_nu2 = asytop_v_P(0, exp_J_max_arr, \"B\", mode_010 , exp_A_rot, A_mode_010, exp_B_rot, B_mode_010, exp_C_rot, C_mode_010)\n",
    "exp_Q_nu2, exp_Q_rot_nu2, exp_Q_index_nu2 = asytop_v_Q(0, exp_J_max_arr, \"B\", mode_010 , exp_A_rot, A_mode_010, exp_B_rot, B_mode_010, exp_C_rot, C_mode_010)\n",
    "exp_R_nu2, exp_R_rot_nu2, exp_R_index_nu2 = asytop_v_R(0, exp_J_max_arr, \"B\", mode_010 , exp_A_rot, A_mode_010, exp_B_rot, B_mode_010, exp_C_rot, C_mode_010)\n",
    "\n",
    "mode_001 = 1024.4\n",
    "A_mode_001 = 3.364 \n",
    "B_mode_001 = 0.441 \n",
    "C_mode_001 = 0.390\n",
    "\n",
    "exp_P_nu3, exp_P_rot_nu3, exp_P_index_nu3 = asytop_v_P(0, exp_J_max_arr, \"A\", mode_001 , exp_A_rot, A_mode_001, exp_B_rot, B_mode_001, exp_C_rot, C_mode_001)\n",
    "exp_Q_nu3, exp_Q_rot_nu3, exp_Q_index_nu3 = asytop_v_Q(0, exp_J_max_arr, \"A\", mode_001 , exp_A_rot, A_mode_001, exp_B_rot, B_mode_001, exp_C_rot, C_mode_001)\n",
    "exp_R_nu3, exp_R_rot_nu3, exp_R_index_nu3 = asytop_v_R(0, exp_J_max_arr, \"A\", mode_001 , exp_A_rot, A_mode_001, exp_B_rot, B_mode_001, exp_C_rot, C_mode_001)\n",
    "\n",
    "exp_nu1_I = Norm_I(exp_P_rot_nu1, exp_P_index_nu1, exp_Q_rot_nu1, exp_Q_index_nu1, exp_R_rot_nu1, exp_R_index_nu1, T, 1, 0.039)\n",
    "##\n",
    "exp_nu2_I = Norm_I(exp_P_rot_nu2, exp_P_index_nu2, exp_Q_rot_nu2, exp_Q_index_nu2, exp_R_rot_nu2, exp_R_index_nu2, T, 1, 0.047)\n",
    "##\n",
    "exp_nu3_I = Norm_I(exp_P_rot_nu3, exp_P_index_nu3, exp_Q_rot_nu3, exp_Q_index_nu3, exp_R_rot_nu3, exp_R_index_nu3, T, 1, 1)\n",
    "##\n",
    "exp_Final_I = Fin_I(exp_nu1_I[0], exp_nu1_I[1], exp_nu1_I[2], exp_nu2_I[0], exp_nu2_I[1], exp_nu2_I[2], exp_nu3_I[0], exp_nu3_I[1], exp_nu3_I[2])\n",
    "##"
   ]
  },
  {
   "cell_type": "code",
   "execution_count": 31,
   "metadata": {},
   "outputs": [
    {
     "name": "stderr",
     "output_type": "stream",
     "text": [
      "100%|██████████| 73/73 [00:10<00:00,  6.93it/s]\n",
      "100%|██████████| 73/73 [00:10<00:00,  7.00it/s] \n",
      "100%|██████████| 73/73 [00:10<00:00,  6.75it/s] \n",
      "100%|██████████| 73/73 [00:11<00:00,  6.26it/s] \n",
      "100%|██████████| 73/73 [00:11<00:00,  6.61it/s] \n",
      "100%|██████████| 73/73 [00:10<00:00,  6.68it/s] \n",
      "100%|██████████| 73/73 [00:11<00:00,  6.38it/s] \n",
      "100%|██████████| 73/73 [00:10<00:00,  6.72it/s] \n",
      "100%|██████████| 73/73 [00:10<00:00,  6.91it/s] \n"
     ]
    }
   ],
   "source": [
    "harm_B = (B[0], B[1], B[2])\n",
    "harm_J_max_arr, harm_A_rot, harm_B_rot, harm_C_rot = J_max_func(harm_B, T)\n",
    "\n",
    "harm_P_nu1, harm_P_rot_nu1, harm_P_index_nu1 = asytop_v_P(0, harm_J_max_arr, \"B\", fundamentals_wn[0] , harm_A_rot, harm_A_rot, harm_B_rot, harm_B_rot, harm_C_rot, harm_C_rot)\n",
    "harm_Q_nu1, harm_Q_rot_nu1, harm_Q_index_nu1 = asytop_v_Q(0, harm_J_max_arr, \"B\", fundamentals_wn[0] , harm_A_rot, harm_A_rot, harm_B_rot, harm_B_rot, harm_C_rot, harm_C_rot)\n",
    "harm_R_nu1, harm_R_rot_nu1, harm_R_index_nu1 = asytop_v_R(0, harm_J_max_arr, \"B\", fundamentals_wn[0] , harm_A_rot, harm_A_rot, harm_B_rot, harm_B_rot, harm_C_rot, harm_C_rot)\n",
    "\n",
    "harm_P_nu2, harm_P_rot_nu2, harm_P_index_nu2 = asytop_v_P(0, harm_J_max_arr, \"B\", fundamentals_wn[2] , harm_A_rot, harm_A_rot, harm_B_rot, harm_B_rot, harm_C_rot, harm_C_rot)\n",
    "harm_Q_nu2, harm_Q_rot_nu2, harm_Q_index_nu2 = asytop_v_Q(0, harm_J_max_arr, \"B\", fundamentals_wn[2] , harm_A_rot, harm_A_rot, harm_B_rot, harm_B_rot, harm_C_rot, harm_C_rot)\n",
    "harm_R_nu2, harm_R_rot_nu2, harm_R_index_nu2 = asytop_v_R(0, harm_J_max_arr, \"B\", fundamentals_wn[2] , harm_A_rot, harm_A_rot, harm_B_rot, harm_B_rot, harm_C_rot, harm_C_rot)\n",
    "\n",
    "harm_P_nu3, harm_P_rot_nu3, harm_P_index_nu3 = asytop_v_P(0, harm_J_max_arr, \"A\", fundamentals_wn[1] , harm_A_rot, harm_A_rot, harm_B_rot, harm_B_rot, harm_C_rot, harm_C_rot)\n",
    "harm_Q_nu3, harm_Q_rot_nu3, harm_Q_index_nu3 = asytop_v_Q(0, harm_J_max_arr, \"A\", fundamentals_wn[1] , harm_A_rot, harm_A_rot, harm_B_rot, harm_B_rot, harm_C_rot, harm_C_rot)\n",
    "harm_R_nu3, harm_R_rot_nu3, harm_R_index_nu3 = asytop_v_R(0, harm_J_max_arr, \"A\", fundamentals_wn[1] , harm_A_rot, harm_A_rot, harm_B_rot, harm_B_rot, harm_C_rot, harm_C_rot)\n",
    "\n",
    "\n",
    "harm_nu1_I = Norm_I(harm_P_rot_nu1, harm_P_index_nu1, harm_Q_rot_nu1, harm_Q_index_nu1, harm_R_rot_nu1, harm_R_index_nu1, T, 1, 0.039)\n",
    "##\n",
    "harm_nu2_I = Norm_I(harm_P_rot_nu2, harm_P_index_nu2, harm_Q_rot_nu2, harm_Q_index_nu2, harm_R_rot_nu2, harm_R_index_nu2, T, 1, 0.047)\n",
    "##\n",
    "harm_nu3_I = Norm_I(harm_P_rot_nu3, harm_P_index_nu3, harm_Q_rot_nu3, harm_Q_index_nu3, harm_R_rot_nu3, harm_R_index_nu3, T, 1, 1)\n",
    "##\n",
    "harm_Final_I = Fin_I(harm_nu1_I[0], harm_nu1_I[1], harm_nu1_I[2], harm_nu2_I[0], harm_nu2_I[1], harm_nu2_I[2], harm_nu3_I[0], harm_nu3_I[1], harm_nu3_I[2])\n",
    "##"
   ]
  },
  {
   "cell_type": "code",
   "execution_count": 34,
   "metadata": {},
   "outputs": [
    {
     "data": {
      "image/png": "[encoded data removed]",
      "text/plain": [
       "<Figure size 1152x576 with 1 Axes>"
      ]
     },
     "metadata": {
      "needs_background": "light"
     },
     "output_type": "display_data"
    }
   ],
   "source": [
    "plt.figure(figsize=(16,8))\n",
    "plt.vlines(prime_freq,0, -prime_intensity, color=\"k\", label=\"HITRAN 2020\", linewidth=.5)\n",
    "\n",
    "plt.vlines(P_nu1, 0, Final_I[0], \"red\", label=\"Epimetheus (13DaLo)\", linewidth=.5)\n",
    "plt.vlines(Q_nu1, 0, Final_I[1], \"red\", linewidth=.5)\n",
    "plt.vlines(R_nu1, 0, Final_I[2], \"red\", linewidth=.5)\n",
    "\n",
    "plt.vlines(P_nu2, 0, Final_I[3], \"red\", linewidth=.5)\n",
    "plt.vlines(Q_nu2, 0, Final_I[4], \"red\", linewidth=.5)\n",
    "plt.vlines(R_nu2, 0, Final_I[5], \"red\", linewidth=.5)\n",
    "\n",
    "plt.vlines(P_nu3, 0, Final_I[6], \"red\", linewidth=.5)\n",
    "plt.vlines(Q_nu3, 0, Final_I[7], \"red\", linewidth=.5)\n",
    "plt.vlines(R_nu3, 0, Final_I[8], \"red\", linewidth=.5)\n",
    "\n",
    "plt.xlim(550, 1250)\n",
    "plt.ylim(ymin=-max(prime_intensity))\n",
    "plt.xlabel(r\"Wavenumber (cm$^{-1}$)\", fontsize=16)\n",
    "plt.ylabel(r\"Normalized Intensity, $\\frac{N_J}{N}$\", fontsize=16)\n",
    "\n",
    "legend = plt.legend(loc = 'lower left', fontsize=16)\n",
    "for handl in legend.legendHandles:\n",
    "    handl.set_linewidth(3)\n",
    "\n",
    "plt.savefig(f\"EPI_O3_676_18PoZo_HITRAN2020_{T}K.pdf\")\n",
    "\n",
    "plt.show()"
   ]
  },
  {
   "cell_type": "code",
   "execution_count": 35,
   "metadata": {},
   "outputs": [
    {
     "data": {
      "image/png": "[encoded data removed]",
      "text/plain": [
       "<Figure size 1152x576 with 1 Axes>"
      ]
     },
     "metadata": {
      "needs_background": "light"
     },
     "output_type": "display_data"
    }
   ],
   "source": [
    "plt.figure(figsize=(16,8))\n",
    "plt.vlines(prime_freq,0, -prime_intensity, color=\"k\", label=\"HITRAN 2020\", linewidth=.5)\n",
    "\n",
    "plt.vlines(P_nu1, 0, Final_I[0], \"red\", label=\"Epimetheus (13DaLo)\", linewidth=.5)\n",
    "plt.vlines(Q_nu1, 0, Final_I[1], \"red\", linewidth=.5)\n",
    "plt.vlines(R_nu1, 0, Final_I[2], \"red\", linewidth=.5)\n",
    "\n",
    "plt.vlines(P_nu2, 0, Final_I[3], \"red\", linewidth=.5)\n",
    "plt.vlines(Q_nu2, 0, Final_I[4], \"red\", linewidth=.5)\n",
    "plt.vlines(R_nu2, 0, Final_I[5], \"red\", linewidth=.5)\n",
    "\n",
    "plt.vlines(P_nu3, 0, Final_I[6], \"red\", linewidth=.5)\n",
    "plt.vlines(Q_nu3, 0, Final_I[7], \"red\", linewidth=.5)\n",
    "plt.vlines(R_nu3, 0, Final_I[8], \"red\", linewidth=.5)\n",
    "\n",
    "plt.vlines(exp_P_nu1, 0, exp_Final_I[0], \"blue\",linestyle='dashed', label=\"98FlBa\", linewidth=.5)\n",
    "plt.vlines(exp_Q_nu1, 0, exp_Final_I[1], \"blue\",linestyle='dashed', linewidth=.5)\n",
    "plt.vlines(exp_R_nu1, 0, exp_Final_I[2], \"blue\",linestyle='dashed', linewidth=.5)\n",
    "\n",
    "plt.vlines(exp_P_nu2, 0, exp_Final_I[3], \"blue\",linestyle='dashed', linewidth=.5)\n",
    "plt.vlines(exp_Q_nu2, 0, exp_Final_I[4], \"blue\",linestyle='dashed', linewidth=.5)\n",
    "plt.vlines(exp_R_nu2, 0, exp_Final_I[5], \"blue\",linestyle='dashed', linewidth=.5)\n",
    "\n",
    "plt.vlines(exp_P_nu3, 0, exp_Final_I[6], \"blue\",linestyle='dashed', linewidth=.5)\n",
    "plt.vlines(exp_Q_nu3, 0, exp_Final_I[7], \"blue\",linestyle='dashed', linewidth=.5)\n",
    "plt.vlines(exp_R_nu3, 0, exp_Final_I[8], \"blue\",linestyle='dashed', linewidth=.5)\n",
    "\n",
    "plt.xlim(550, 1250)\n",
    "plt.ylim(ymin=-max(prime_intensity))\n",
    "plt.xlabel(r\"Wavenumber (cm$^{-1}$)\", fontsize=16)\n",
    "plt.ylabel(r\"Normalized Intensity, $\\frac{N_J}{N}$\", fontsize=16)\n",
    "\n",
    "legend = plt.legend(loc = 'lower left', fontsize=16)\n",
    "for handl in legend.legendHandles:\n",
    "    handl.set_linewidth(3)\n",
    "\n",
    "plt.savefig(f\"EPI_O3_676_18PoZo_HITRAN2020_exp_{T}K.pdf\")\n",
    "\n",
    "plt.show()"
   ]
  },
  {
   "cell_type": "code",
   "execution_count": null,
   "metadata": {},
   "outputs": [],
   "source": []
  },
  {
   "cell_type": "code",
   "execution_count": 60,
   "metadata": {},
   "outputs": [
    {
     "data": {
      "text/plain": [
       "<matplotlib.collections.LineCollection at 0x7fc5e1692730>"
      ]
     },
     "execution_count": 60,
     "metadata": {},
     "output_type": "execute_result"
    },
    {
     "data": {
      "image/png": "[encoded data removed]",
      "text/plain": [
       "<Figure size 1152x576 with 1 Axes>"
      ]
     },
     "metadata": {
      "needs_background": "light"
     },
     "output_type": "display_data"
    }
   ],
   "source": [
    "Pos = np.concatenate((P_nu1, Q_nu1, R_nu1, P_nu2, Q_nu2, R_nu2, P_nu3, Q_nu3, R_nu3))\n",
    "Pos = np.reshape(Pos, (len(Pos),1))\n",
    "Int = np.concatenate((Final_I[0], Final_I[1], Final_I[2], Final_I[3], Final_I[4], Final_I[5], Final_I[6], Final_I[7], Final_I[8]))\n",
    "Int = np.reshape(Int, (len(Int),1))\n",
    "Pos_and_Int = np.concatenate((Pos,Int), axis=1)\n",
    "np.savetxt(\"O3_676_18PoZo_outputdata_WN_and_INT.txt\", Pos_and_Int, delimiter=\",\")\n",
    "#Quick double check of the data saved\n",
    "plt.figure(figsize=(16,8))\n",
    "plt.vlines(Pos_and_Int[:,0],0,Pos_and_Int[:,1])"
   ]
  },
  {
   "cell_type": "code",
   "execution_count": null,
   "metadata": {},
   "outputs": [],
   "source": []
  }
 ],
 "metadata": {
  "kernelspec": {
   "display_name": "Python 3",
   "language": "python",
   "name": "python3"
  },
  "language_info": {
   "codemirror_mode": {
    "name": "ipython",
    "version": 3
   },
   "file_extension": ".py",
   "mimetype": "text/x-python",
   "name": "python",
   "nbconvert_exporter": "python",
   "pygments_lexer": "ipython3",
   "version": "3.8.3"
  }
 },
 "nbformat": 4,
 "nbformat_minor": 4
}
